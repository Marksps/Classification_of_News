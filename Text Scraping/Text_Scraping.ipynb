{
 "cells": [
  {
   "cell_type": "markdown",
   "metadata": {
    "id": "l-HO1hPpIv28"
   },
   "source": [
    "# นายศุภวิชญ์ ศุภเสถียร 62070274"
   ]
  },
  {
   "cell_type": "code",
   "execution_count": null,
   "metadata": {
    "id": "7zZOkMKhWyFo"
   },
   "outputs": [],
   "source": [
    "import requests\n",
    "import pandas as pd\n",
    "import numpy as np\n",
    "import matplotlib.pyplot as plt\n",
    "import seaborn as sns\n",
    "import plotly.express as px\n",
    "from plotly.subplots import make_subplots\n",
    "import plotly.graph_objects as go"
   ]
  },
  {
   "cell_type": "markdown",
   "metadata": {
    "id": "p16_L-d-FbiF"
   },
   "source": [
    "#**Task 1 เลือกข้อมูล API ที่จะนำมาใช้** \n",
    "\n",
    "**ABOUT API**\n",
    "\n",
    "API ที่เลือกนำมาใช้นำมาจากเว็บไซต์ https://rapidapi.com/hub \n",
    "\n",
    "โดยข้อมูลที่จะนำมาใช้คือ OTT details API Documentation\n",
    "\n",
    "OTT หรือ Over-the-top คือการให้บริการเนื้อหาสื่อรายการโทรทัศน์ ภาพยนตร์ ซีรี่ย์ วีดิโอ  ผ่านโครงข่ายอินเทอร์เน็ตที่ผู้ให้บริการไม่ได้เป็นเจ้าของโครงข่ายอินเทอร์เน็ต เช่น HBO, YouTube, Netflix , Primve Video, Hotstar, Hulu, etc\n",
    "\n",
    "Web API  = [https://ott-details.p.rapidapi.com/advancedsearch?](https://ott-details.p.rapidapi.com/advancedsearch?)\n",
    "\n",
    "API นี้สามารถ Requests ได้ 120 ครั้ง/เดือน\n",
    "\n",
    "Web API Key = f79e7248e1msh24c344880e98950p1a86f7jsn5adedfecf368\n"
   ]
  },
  {
   "cell_type": "code",
   "execution_count": null,
   "metadata": {
    "id": "jytCYydJW9aB"
   },
   "outputs": [],
   "source": [
    "#Web API Key\n",
    "API_KEY = \"f79e7248e1msh24c344880e98950p1a86f7jsn5adedfecf368\""
   ]
  },
  {
   "cell_type": "markdown",
   "metadata": {
    "id": "VD61zMjAHhsi"
   },
   "source": [
    "# Task 2 ดึงข้อมูล API"
   ]
  },
  {
   "cell_type": "markdown",
   "metadata": {
    "id": "-kYiwExtWh2o"
   },
   "source": [
    "ข้อมูล OTT details ที่จะนำมาใช้\n",
    "\n",
    "1.   Title = ชื่อของภาพยนตร์,รายการโทรทัศน์,ซีรีย์,ทีวีโชว์\n",
    "2.   Genre = ประเภทของภาพยนตร์,รายการโทรทัศน์,ซีรีย์,ทีวีโชว์\n",
    "3.   Type = รูปแบบเนื้อหาของสื่อ\n",
    "4.   Released = ปีที่ภาพยนตร์,รายการโทรทัศน์,ซีรีย์,ทีวีโชว์ ออกฉาย\n",
    "5.   IMDBrating = คะแนนเรทติ้งของ ภาพยนตร์,รายการโทรทัศน์,ซีรีย์ จาก IMDB\n",
    "6.   Country = ประเทศของผู้ผลิตสื่อ\n",
    "7.   Region = ภูมิภาคของผู้ผลิตสื่อ\n",
    "\n",
    "\n",
    "\n",
    "\n",
    "\n",
    "\n"
   ]
  },
  {
   "cell_type": "code",
   "execution_count": null,
   "metadata": {
    "id": "e7kCzHGxXEva"
   },
   "outputs": [],
   "source": [
    "#ดึงข้อมูล API\n",
    "#Requests1 \n",
    "url = \"https://ott-details.p.rapidapi.com/advancedsearch?rapidapi-key=\" + API_KEY + \"&region=USA\"\n",
    "responseUSA = requests.request(\"GET\", url)\n",
    "dataUSA = responseUSA.json()"
   ]
  },
  {
   "cell_type": "code",
   "execution_count": null,
   "metadata": {
    "id": "pQa7In6HYMwB"
   },
   "outputs": [],
   "source": [
    "#Requests2\n",
    "url = \"https://ott-details.p.rapidapi.com/advancedsearch?rapidapi-key=\" + API_KEY + \"&language=German&min_imdb=1&max_imdb=10\"\n",
    "responseGER = requests.request(\"GET\", url)\n",
    "dataGER = responseGER.json()"
   ]
  },
  {
   "cell_type": "code",
   "execution_count": null,
   "metadata": {
    "id": "-gCLouPFafLc"
   },
   "outputs": [],
   "source": [
    "#Requests3\n",
    "url = \"https://ott-details.p.rapidapi.com/advancedsearch?rapidapi-key=\" + API_KEY + \"&language=French&min_imdb=1&max_imdb=10\"\n",
    "responseFRA = requests.request(\"GET\", url)\n",
    "dataFRA = responseFRA.json()"
   ]
  },
  {
   "cell_type": "code",
   "execution_count": null,
   "metadata": {
    "id": "7bUDxmNQbHnl"
   },
   "outputs": [],
   "source": [
    "#Requests4\n",
    "url = \"https://ott-details.p.rapidapi.com/advancedsearch?rapidapi-key=\" + API_KEY + \"&language=Croatian&min_imdb=1&max_imdb=10\"\n",
    "responseCRO = requests.request(\"GET\", url)\n",
    "dataCRO = responseCRO.json()"
   ]
  },
  {
   "cell_type": "code",
   "execution_count": null,
   "metadata": {
    "id": "NsMipk6HcqZj"
   },
   "outputs": [],
   "source": [
    "#Requests5\n",
    "url = \"https://ott-details.p.rapidapi.com/advancedsearch?rapidapi-key=\" + API_KEY + \"&language=Thai&min_imdb=1&max_imdb=10\"\n",
    "responseTHA = requests.request(\"GET\", url)\n",
    "dataTHA = responseTHA.json()"
   ]
  },
  {
   "cell_type": "code",
   "execution_count": null,
   "metadata": {
    "id": "veSJzi0ddm_y"
   },
   "outputs": [],
   "source": [
    "#Requests6\n",
    "url = \"https://ott-details.p.rapidapi.com/advancedsearch?rapidapi-key=\" + API_KEY + \"&language=Indonesian&min_imdb=1&max_imdb=10&type=show\"\n",
    "responseINDOSHOW = requests.request(\"GET\", url)\n",
    "dataINDOSHOW = responseINDOSHOW.json()"
   ]
  },
  {
   "cell_type": "code",
   "execution_count": null,
   "metadata": {
    "id": "niB4YHBfevTL"
   },
   "outputs": [],
   "source": [
    "#Requests7\n",
    "url = \"https://ott-details.p.rapidapi.com/advancedsearch?rapidapi-key=\" + API_KEY + \"&language=Dutch&type=show&min_imdb=1&max_imdb=10\"\n",
    "responseDUTSHOW = requests.request(\"GET\", url)\n",
    "dataDUTSHOW = responseDUTSHOW.json()"
   ]
  },
  {
   "cell_type": "code",
   "execution_count": null,
   "metadata": {
    "id": "Dsslz4vJgT8n"
   },
   "outputs": [],
   "source": [
    "#Requests8\n",
    "url = \"https://ott-details.p.rapidapi.com/advancedsearch?rapidapi-key=\" + API_KEY + \"&language=Korean&type=show&min_imdb=1&max_imdb=10\"\n",
    "responseKORSHOW = requests.request(\"GET\", url)\n",
    "dataKORSHOW = responseKORSHOW.json()"
   ]
  },
  {
   "cell_type": "code",
   "execution_count": null,
   "metadata": {
    "id": "USrunwXzg56V"
   },
   "outputs": [],
   "source": [
    "#Requests9\n",
    "url = \"https://ott-details.p.rapidapi.com/advancedsearch?rapidapi-key=\" + API_KEY + \"&language=Japanese&type=show&min_imdb=1&max_imdb=10\"\n",
    "responseJPNSHOW = requests.request(\"GET\", url)\n",
    "dataJPNSHOW = responseJPNSHOW.json()"
   ]
  },
  {
   "cell_type": "code",
   "execution_count": null,
   "metadata": {
    "id": "UefVg1Cyg_hJ"
   },
   "outputs": [],
   "source": [
    "#Requests10\n",
    "url = \"https://ott-details.p.rapidapi.com/advancedsearch?rapidapi-key=\" + API_KEY + \"&language=Chinese&type=show&min_imdb=1&max_imdb=10\"\n",
    "responseCHNSHOW = requests.request(\"GET\", url)\n",
    "dataCHNSHOW = responseCHNSHOW.json()"
   ]
  },
  {
   "cell_type": "markdown",
   "metadata": {
    "id": "ohZJxEvGHr7M"
   },
   "source": [
    "# Task 3 Export Data"
   ]
  },
  {
   "cell_type": "code",
   "execution_count": null,
   "metadata": {
    "id": "fBLErcLeilnc"
   },
   "outputs": [],
   "source": [
    "#สร้าง list เปล่าเพื่อนำมาใช้เก็บ Data  \n",
    "Country_list, Region_list, genre_list, imdbrating_list, title_list, type_list, released_list = [], [], [], [], [], [], []"
   ]
  },
  {
   "cell_type": "code",
   "execution_count": null,
   "metadata": {
    "id": "BfqF4ClGjLMl"
   },
   "outputs": [],
   "source": [
    "#Loop นำข้อมูลจาก API เข้า list \n",
    "#Loop1\n",
    "for doc in dataUSA['results']:\n",
    "  Country_list.append('USA')\n",
    "  Region_list.append('North America')\n",
    "  genre_list.append(doc['genre'])\n",
    "  imdbrating_list.append(doc['imdbrating'])\n",
    "  title_list.append(doc['title'])\n",
    "  released_list.append(doc['released'])\n",
    "  type_list.append(doc['type'])"
   ]
  },
  {
   "cell_type": "code",
   "execution_count": null,
   "metadata": {
    "id": "fLwQeMzWjbKE"
   },
   "outputs": [],
   "source": [
    "#Loop2\n",
    "for doc in dataGER['results']:\n",
    "  Country_list.append('Germany')\n",
    "  Region_list.append('Europe')\n",
    "  genre_list.append(doc['genre'])\n",
    "  imdbrating_list.append(doc['imdbrating'])\n",
    "  title_list.append(doc['title'])\n",
    "  released_list.append(doc['released'])\n",
    "  type_list.append(doc['type'])"
   ]
  },
  {
   "cell_type": "code",
   "execution_count": null,
   "metadata": {
    "id": "SK7q8jyCjimA"
   },
   "outputs": [],
   "source": [
    "#Loop3\n",
    "for doc in dataFRA['results']:\n",
    "  Country_list.append('France')\n",
    "  Region_list.append('Europe')\n",
    "  genre_list.append(doc['genre'])\n",
    "  imdbrating_list.append(doc['imdbrating'])\n",
    "  title_list.append(doc['title'])\n",
    "  released_list.append(doc['released'])\n",
    "  type_list.append(doc['type'])"
   ]
  },
  {
   "cell_type": "code",
   "execution_count": null,
   "metadata": {
    "id": "cEbaDi9Yjqnc"
   },
   "outputs": [],
   "source": [
    "#Loop4\n",
    "for doc in dataCRO['results']:\n",
    "  Country_list.append('Croatia')\n",
    "  Region_list.append('Europe')\n",
    "  genre_list.append(doc['genre'])\n",
    "  imdbrating_list.append(doc['imdbrating'])\n",
    "  title_list.append(doc['title'])\n",
    "  released_list.append(doc['released'])\n",
    "  type_list.append(doc['type'])"
   ]
  },
  {
   "cell_type": "code",
   "execution_count": null,
   "metadata": {
    "id": "78qGIjFhj23q"
   },
   "outputs": [],
   "source": [
    "#Loop5\n",
    "for doc in dataTHA['results']:\n",
    "  Country_list.append('Thailand')\n",
    "  Region_list.append('Asia')\n",
    "  genre_list.append(doc['genre'])\n",
    "  imdbrating_list.append(doc['imdbrating'])\n",
    "  title_list.append(doc['title'])\n",
    "  released_list.append(doc['released'])\n",
    "  type_list.append(doc['type'])"
   ]
  },
  {
   "cell_type": "code",
   "execution_count": null,
   "metadata": {
    "id": "OiK-Cw8Tj8EH"
   },
   "outputs": [],
   "source": [
    "#Loop6\n",
    "for doc in dataINDOSHOW['results']:\n",
    "  Country_list.append('Indonesia')\n",
    "  Region_list.append('Asia')\n",
    "  genre_list.append(doc['genre'])\n",
    "  imdbrating_list.append(doc['imdbrating'])\n",
    "  title_list.append(doc['title'])\n",
    "  released_list.append(doc['released'])\n",
    "  type_list.append(doc['type'])"
   ]
  },
  {
   "cell_type": "code",
   "execution_count": null,
   "metadata": {
    "id": "6HQQj3BEkCpD"
   },
   "outputs": [],
   "source": [
    "#Loop7\n",
    "for doc in dataDUTSHOW['results']:\n",
    "  Country_list.append('Netherlands')\n",
    "  Region_list.append('Europe')\n",
    "  genre_list.append(doc['genre'])\n",
    "  imdbrating_list.append(doc['imdbrating'])\n",
    "  title_list.append(doc['title'])\n",
    "  released_list.append(doc['released'])\n",
    "  type_list.append(doc['type'])"
   ]
  },
  {
   "cell_type": "code",
   "execution_count": null,
   "metadata": {
    "id": "DsxACR4mkKBo"
   },
   "outputs": [],
   "source": [
    "#Loop8\n",
    "for doc in dataKORSHOW['results']:\n",
    "  Country_list.append('South Korea')\n",
    "  Region_list.append('Asia')\n",
    "  genre_list.append(doc['genre'])\n",
    "  imdbrating_list.append(doc['imdbrating'])\n",
    "  title_list.append(doc['title'])\n",
    "  released_list.append(doc['released'])\n",
    "  type_list.append(doc['type'])"
   ]
  },
  {
   "cell_type": "code",
   "execution_count": null,
   "metadata": {
    "id": "21IjT6EykRwQ"
   },
   "outputs": [],
   "source": [
    "#Loop9\n",
    "for doc in dataJPNSHOW['results']:\n",
    "  Country_list.append('Japan')\n",
    "  Region_list.append('Asia')\n",
    "  genre_list.append(doc['genre'])\n",
    "  imdbrating_list.append(doc['imdbrating'])\n",
    "  title_list.append(doc['title'])\n",
    "  released_list.append(doc['released'])\n",
    "  type_list.append(doc['type'])"
   ]
  },
  {
   "cell_type": "code",
   "execution_count": null,
   "metadata": {
    "id": "_sWkAdgKkX1f"
   },
   "outputs": [],
   "source": [
    "#Loop10\n",
    "for doc in dataCHNSHOW['results']:\n",
    "  Country_list.append('China')\n",
    "  Region_list.append('Asia')\n",
    "  genre_list.append(doc['genre'])\n",
    "  imdbrating_list.append(doc['imdbrating'])\n",
    "  title_list.append(doc['title'])\n",
    "  released_list.append(doc['released'])\n",
    "  type_list.append(doc['type'])"
   ]
  },
  {
   "cell_type": "code",
   "execution_count": null,
   "metadata": {
    "id": "UH_4jQWqkrXk"
   },
   "outputs": [],
   "source": [
    "#สร้าง dataframe ที่ใช้ในการเก็บข้อมูล\n",
    "df = pd.DataFrame({'Country':Country_list,\n",
    "                   'Region':Region_list,\n",
    "                   'Genre':genre_list,\n",
    "                   'IMDBrating':imdbrating_list,\n",
    "                   'Title':title_list,\n",
    "                   'Released':released_list,\n",
    "                   'Type':type_list\n",
    "                  })"
   ]
  },
  {
   "cell_type": "code",
   "execution_count": null,
   "metadata": {
    "colab": {
     "base_uri": "https://localhost:8080/",
     "height": 419
    },
    "id": "TAdkA111lBFA",
    "outputId": "c4b5cfe4-7726-4c93-cd09-89ef17b50976"
   },
   "outputs": [
    {
     "data": {
      "text/html": [
       "<div>\n",
       "<style scoped>\n",
       "    .dataframe tbody tr th:only-of-type {\n",
       "        vertical-align: middle;\n",
       "    }\n",
       "\n",
       "    .dataframe tbody tr th {\n",
       "        vertical-align: top;\n",
       "    }\n",
       "\n",
       "    .dataframe thead th {\n",
       "        text-align: right;\n",
       "    }\n",
       "</style>\n",
       "<table border=\"1\" class=\"dataframe\">\n",
       "  <thead>\n",
       "    <tr style=\"text-align: right;\">\n",
       "      <th></th>\n",
       "      <th>Country</th>\n",
       "      <th>Region</th>\n",
       "      <th>Genre</th>\n",
       "      <th>IMDBrating</th>\n",
       "      <th>Title</th>\n",
       "      <th>Released</th>\n",
       "      <th>Type</th>\n",
       "    </tr>\n",
       "  </thead>\n",
       "  <tbody>\n",
       "    <tr>\n",
       "      <th>0</th>\n",
       "      <td>USA</td>\n",
       "      <td>North America</td>\n",
       "      <td>[Comedy, Drama, Fantasy]</td>\n",
       "      <td>NaN</td>\n",
       "      <td>Nice &amp; Naughty, A Christmas Story</td>\n",
       "      <td>2021</td>\n",
       "      <td>movie</td>\n",
       "    </tr>\n",
       "    <tr>\n",
       "      <th>1</th>\n",
       "      <td>USA</td>\n",
       "      <td>North America</td>\n",
       "      <td>[Drama]</td>\n",
       "      <td>NaN</td>\n",
       "      <td>GodHead: In a fiction, in a dream of passion</td>\n",
       "      <td>2021</td>\n",
       "      <td>movie</td>\n",
       "    </tr>\n",
       "    <tr>\n",
       "      <th>2</th>\n",
       "      <td>USA</td>\n",
       "      <td>North America</td>\n",
       "      <td>[Action, Drama]</td>\n",
       "      <td>NaN</td>\n",
       "      <td>Frankie's Redemption</td>\n",
       "      <td>2021</td>\n",
       "      <td>movie</td>\n",
       "    </tr>\n",
       "    <tr>\n",
       "      <th>3</th>\n",
       "      <td>USA</td>\n",
       "      <td>North America</td>\n",
       "      <td>[Drama]</td>\n",
       "      <td>NaN</td>\n",
       "      <td>Twice As Strong: Made of Fire</td>\n",
       "      <td>2021</td>\n",
       "      <td>movie</td>\n",
       "    </tr>\n",
       "    <tr>\n",
       "      <th>4</th>\n",
       "      <td>USA</td>\n",
       "      <td>North America</td>\n",
       "      <td>[Drama, Romance]</td>\n",
       "      <td>NaN</td>\n",
       "      <td>Divine Decision: Double Down</td>\n",
       "      <td>2021</td>\n",
       "      <td>movie</td>\n",
       "    </tr>\n",
       "    <tr>\n",
       "      <th>...</th>\n",
       "      <td>...</td>\n",
       "      <td>...</td>\n",
       "      <td>...</td>\n",
       "      <td>...</td>\n",
       "      <td>...</td>\n",
       "      <td>...</td>\n",
       "      <td>...</td>\n",
       "    </tr>\n",
       "    <tr>\n",
       "      <th>495</th>\n",
       "      <td>China</td>\n",
       "      <td>Asia</td>\n",
       "      <td>[Drama, Romance]</td>\n",
       "      <td>7.9</td>\n",
       "      <td>Find Yourself</td>\n",
       "      <td>2020</td>\n",
       "      <td>tvSeries</td>\n",
       "    </tr>\n",
       "    <tr>\n",
       "      <th>496</th>\n",
       "      <td>China</td>\n",
       "      <td>Asia</td>\n",
       "      <td>[Drama]</td>\n",
       "      <td>7.9</td>\n",
       "      <td>Run for Young</td>\n",
       "      <td>2020</td>\n",
       "      <td>tvSeries</td>\n",
       "    </tr>\n",
       "    <tr>\n",
       "      <th>497</th>\n",
       "      <td>China</td>\n",
       "      <td>Asia</td>\n",
       "      <td>[Drama]</td>\n",
       "      <td>6.5</td>\n",
       "      <td>Detective Chinatown</td>\n",
       "      <td>2020</td>\n",
       "      <td>tvSeries</td>\n",
       "    </tr>\n",
       "    <tr>\n",
       "      <th>498</th>\n",
       "      <td>China</td>\n",
       "      <td>Asia</td>\n",
       "      <td>[Comedy, Drama, Romance]</td>\n",
       "      <td>7.6</td>\n",
       "      <td>Rebirth of Shopping Addict</td>\n",
       "      <td>2020</td>\n",
       "      <td>tvSeries</td>\n",
       "    </tr>\n",
       "    <tr>\n",
       "      <th>499</th>\n",
       "      <td>China</td>\n",
       "      <td>Asia</td>\n",
       "      <td>[Action, Crime, Drama]</td>\n",
       "      <td>6.3</td>\n",
       "      <td>Hunting</td>\n",
       "      <td>2020</td>\n",
       "      <td>tvSeries</td>\n",
       "    </tr>\n",
       "  </tbody>\n",
       "</table>\n",
       "<p>500 rows × 7 columns</p>\n",
       "</div>"
      ],
      "text/plain": [
       "    Country         Region  ... Released      Type\n",
       "0       USA  North America  ...     2021     movie\n",
       "1       USA  North America  ...     2021     movie\n",
       "2       USA  North America  ...     2021     movie\n",
       "3       USA  North America  ...     2021     movie\n",
       "4       USA  North America  ...     2021     movie\n",
       "..      ...            ...  ...      ...       ...\n",
       "495   China           Asia  ...     2020  tvSeries\n",
       "496   China           Asia  ...     2020  tvSeries\n",
       "497   China           Asia  ...     2020  tvSeries\n",
       "498   China           Asia  ...     2020  tvSeries\n",
       "499   China           Asia  ...     2020  tvSeries\n",
       "\n",
       "[500 rows x 7 columns]"
      ]
     },
     "execution_count": 152,
     "metadata": {},
     "output_type": "execute_result"
    }
   ],
   "source": [
    "#ชุดข้อมูล ภาพยนต์,ซีรี่ย์,ทีวีโชว์ รวมทั้งหมด 500 เรื่อง\n",
    "df"
   ]
  },
  {
   "cell_type": "code",
   "execution_count": null,
   "metadata": {
    "id": "uJcvfRefEFvQ"
   },
   "outputs": [],
   "source": [
    "#Save to CSV file\n",
    "df.to_csv('OTT details.csv', index= False)"
   ]
  },
  {
   "cell_type": "markdown",
   "metadata": {
    "id": "0C203UtkIA_D"
   },
   "source": [
    "# Task4 : Import/Clean/Filter/Combine DATA"
   ]
  },
  {
   "cell_type": "code",
   "execution_count": null,
   "metadata": {
    "colab": {
     "base_uri": "https://localhost:8080/"
    },
    "id": "rQZ_r2N_tKaS",
    "outputId": "914beec5-65d2-4e42-b156-800f02697649"
   },
   "outputs": [
    {
     "name": "stdout",
     "output_type": "stream",
     "text": [
      "Downloading...\n",
      "From: https://drive.google.com/uc?id=16KvUgjm-J7xNSJPtEMchUNv1RWUyEyc4\n",
      "To: /content/data/OTTdetails.csv\n",
      "100% 36.7k/36.7k [00:00<00:00, 14.1MB/s]\n"
     ]
    }
   ],
   "source": [
    "!mkdir data\n",
    "!gdown --id 16KvUgjm-J7xNSJPtEMchUNv1RWUyEyc4 -O /content/data/OTTdetails.csv"
   ]
  },
  {
   "cell_type": "code",
   "execution_count": null,
   "metadata": {
    "colab": {
     "base_uri": "https://localhost:8080/",
     "height": 204
    },
    "id": "7Ux2KHlbNRaS",
    "outputId": "a2b48b3c-534f-462a-9ce9-074b7d3cc7c7"
   },
   "outputs": [
    {
     "data": {
      "text/html": [
       "<div>\n",
       "<style scoped>\n",
       "    .dataframe tbody tr th:only-of-type {\n",
       "        vertical-align: middle;\n",
       "    }\n",
       "\n",
       "    .dataframe tbody tr th {\n",
       "        vertical-align: top;\n",
       "    }\n",
       "\n",
       "    .dataframe thead th {\n",
       "        text-align: right;\n",
       "    }\n",
       "</style>\n",
       "<table border=\"1\" class=\"dataframe\">\n",
       "  <thead>\n",
       "    <tr style=\"text-align: right;\">\n",
       "      <th></th>\n",
       "      <th>Country</th>\n",
       "      <th>Region</th>\n",
       "      <th>Genre</th>\n",
       "      <th>IMDBrating</th>\n",
       "      <th>Title</th>\n",
       "      <th>Released</th>\n",
       "      <th>Type</th>\n",
       "    </tr>\n",
       "  </thead>\n",
       "  <tbody>\n",
       "    <tr>\n",
       "      <th>0</th>\n",
       "      <td>USA</td>\n",
       "      <td>North America</td>\n",
       "      <td>['Comedy', 'Drama', 'Fantasy']</td>\n",
       "      <td>NaN</td>\n",
       "      <td>Nice &amp; Naughty, A Christmas Story</td>\n",
       "      <td>2021</td>\n",
       "      <td>movie</td>\n",
       "    </tr>\n",
       "    <tr>\n",
       "      <th>1</th>\n",
       "      <td>USA</td>\n",
       "      <td>North America</td>\n",
       "      <td>['Drama']</td>\n",
       "      <td>NaN</td>\n",
       "      <td>GodHead: In a fiction, in a dream of passion</td>\n",
       "      <td>2021</td>\n",
       "      <td>movie</td>\n",
       "    </tr>\n",
       "    <tr>\n",
       "      <th>2</th>\n",
       "      <td>USA</td>\n",
       "      <td>North America</td>\n",
       "      <td>['Action', 'Drama']</td>\n",
       "      <td>NaN</td>\n",
       "      <td>Frankie's Redemption</td>\n",
       "      <td>2021</td>\n",
       "      <td>movie</td>\n",
       "    </tr>\n",
       "    <tr>\n",
       "      <th>3</th>\n",
       "      <td>USA</td>\n",
       "      <td>North America</td>\n",
       "      <td>['Drama']</td>\n",
       "      <td>NaN</td>\n",
       "      <td>Twice As Strong: Made of Fire</td>\n",
       "      <td>2021</td>\n",
       "      <td>movie</td>\n",
       "    </tr>\n",
       "    <tr>\n",
       "      <th>4</th>\n",
       "      <td>USA</td>\n",
       "      <td>North America</td>\n",
       "      <td>['Drama', 'Romance']</td>\n",
       "      <td>NaN</td>\n",
       "      <td>Divine Decision: Double Down</td>\n",
       "      <td>2021</td>\n",
       "      <td>movie</td>\n",
       "    </tr>\n",
       "  </tbody>\n",
       "</table>\n",
       "</div>"
      ],
      "text/plain": [
       "  Country         Region  ... Released   Type\n",
       "0     USA  North America  ...     2021  movie\n",
       "1     USA  North America  ...     2021  movie\n",
       "2     USA  North America  ...     2021  movie\n",
       "3     USA  North America  ...     2021  movie\n",
       "4     USA  North America  ...     2021  movie\n",
       "\n",
       "[5 rows x 7 columns]"
      ]
     },
     "execution_count": 2,
     "metadata": {},
     "output_type": "execute_result"
    }
   ],
   "source": [
    "#Load dataset from CSV file using Pandas.\n",
    "df = pd.read_csv(\"/content/data/OTTdetails.csv\")\n",
    "df.head()"
   ]
  },
  {
   "cell_type": "code",
   "execution_count": null,
   "metadata": {
    "id": "nDzfpuHtyXkx"
   },
   "outputs": [],
   "source": [
    "data = df"
   ]
  },
  {
   "cell_type": "code",
   "execution_count": null,
   "metadata": {
    "colab": {
     "base_uri": "https://localhost:8080/"
    },
    "id": "AXpb7BObqctw",
    "outputId": "596ee264-5b65-4072-cc3b-5ac3521acf49"
   },
   "outputs": [
    {
     "data": {
      "text/plain": [
       "Country        0\n",
       "Region         0\n",
       "Genre          0\n",
       "IMDBrating    33\n",
       "Title          0\n",
       "Released       0\n",
       "Type           0\n",
       "dtype: int64"
      ]
     },
     "execution_count": 4,
     "metadata": {},
     "output_type": "execute_result"
    }
   ],
   "source": [
    "#Check Missing Value\n",
    "data.isnull().sum()"
   ]
  },
  {
   "cell_type": "code",
   "execution_count": null,
   "metadata": {
    "id": "DTNldYVPPUiW"
   },
   "outputs": [],
   "source": [
    "#Delete Missing Value\n",
    "data = data.dropna()"
   ]
  },
  {
   "cell_type": "code",
   "execution_count": null,
   "metadata": {
    "colab": {
     "base_uri": "https://localhost:8080/"
    },
    "id": "qvXstIblPvud",
    "outputId": "e6b886fe-5f40-4901-f5f4-805a0fa4528a"
   },
   "outputs": [
    {
     "data": {
      "text/plain": [
       "Country       0\n",
       "Region        0\n",
       "Genre         0\n",
       "IMDBrating    0\n",
       "Title         0\n",
       "Released      0\n",
       "Type          0\n",
       "dtype: int64"
      ]
     },
     "execution_count": 6,
     "metadata": {},
     "output_type": "execute_result"
    }
   ],
   "source": [
    "#Check Missing Value\n",
    "data.isnull().sum()"
   ]
  },
  {
   "cell_type": "code",
   "execution_count": null,
   "metadata": {
    "colab": {
     "base_uri": "https://localhost:8080/"
    },
    "id": "qMN8P66YQP_y",
    "outputId": "ea073477-6f46-44ad-c44f-12712871a67c"
   },
   "outputs": [
    {
     "data": {
      "text/plain": [
       "0"
      ]
     },
     "execution_count": 7,
     "metadata": {},
     "output_type": "execute_result"
    }
   ],
   "source": [
    "#เช็คข้อมูลตัวที่ซ้ำ\n",
    "data.duplicated().sum()"
   ]
  },
  {
   "cell_type": "code",
   "execution_count": null,
   "metadata": {
    "id": "wA68AylwQcpv"
   },
   "outputs": [],
   "source": [
    "#Convert list to string in Genre columns\n",
    "data_Convert = data\n",
    "data_Convert = data_Convert['Genre'].str.replace('[','')\n",
    "data_Convert = data_Convert.str.replace(']','')\n",
    "data_Convert = data_Convert.str.replace(',','')\n",
    "data_Convert = data_Convert.str.replace(\"'\",'')"
   ]
  },
  {
   "cell_type": "code",
   "execution_count": null,
   "metadata": {
    "id": "G7NoJFuORgr2"
   },
   "outputs": [],
   "source": [
    "#spitl list\n",
    "spitl_Col = data_Convert.str.split(expand=True)\n",
    "#change columns name\n",
    "spitl_Col.columns = ['a','b','c']"
   ]
  },
  {
   "cell_type": "code",
   "execution_count": null,
   "metadata": {
    "colab": {
     "base_uri": "https://localhost:8080/"
    },
    "id": "eHgODmg5SHww",
    "outputId": "497dac59-9395-4669-9b9c-02c734d75bd4"
   },
   "outputs": [
    {
     "name": "stderr",
     "output_type": "stream",
     "text": [
      "/usr/local/lib/python3.7/dist-packages/ipykernel_launcher.py:2: SettingWithCopyWarning: \n",
      "A value is trying to be set on a copy of a slice from a DataFrame.\n",
      "Try using .loc[row_indexer,col_indexer] = value instead\n",
      "\n",
      "See the caveats in the documentation: https://pandas.pydata.org/pandas-docs/stable/user_guide/indexing.html#returning-a-view-versus-a-copy\n",
      "  \n"
     ]
    }
   ],
   "source": [
    "#แทนค่าข้อมูลใน columns 'Genre' ด้วยข้อมูลใหม่\n",
    "data['Genre'] = np.where(data['Genre'] == 0, data['Genre'], spitl_Col['a'])"
   ]
  },
  {
   "cell_type": "code",
   "execution_count": null,
   "metadata": {
    "colab": {
     "base_uri": "https://localhost:8080/"
    },
    "id": "3q3NMLM1U0XD",
    "outputId": "0a0264c1-225b-4aa4-9ecd-24b61a4a998e"
   },
   "outputs": [
    {
     "data": {
      "text/plain": [
       "Drama          125\n",
       "Comedy          96\n",
       "Action          50\n",
       "Documentary     47\n",
       "Adventure       28\n",
       "Crime           26\n",
       "Animation       24\n",
       "Biography       16\n",
       "Romance          9\n",
       "Horror           9\n",
       "Fantasy          8\n",
       "Reality-TV       6\n",
       "\\\\N              5\n",
       "Family           4\n",
       "Music            4\n",
       "Mystery          3\n",
       "Talk-Show        2\n",
       "Thriller         2\n",
       "Short            1\n",
       "War              1\n",
       "Sport            1\n",
       "Name: Genre, dtype: int64"
      ]
     },
     "execution_count": 11,
     "metadata": {},
     "output_type": "execute_result"
    }
   ],
   "source": [
    "data['Genre'].value_counts()#มีข้อมูลชื่อ '\\\\N' ที่แปลกจึงจะทำการ Drop ทิ้ง"
   ]
  },
  {
   "cell_type": "code",
   "execution_count": null,
   "metadata": {
    "id": "5gDjHJFIVlFU"
   },
   "outputs": [],
   "source": [
    "#drop ข้อมูลที่ไม่่ได้เป็นการระบุชือประเภทของ ภาพยนต์,ซีรี่ย์,ทีวีโชว์ \n",
    "to_drop = ['\\\\\\\\N'] \n",
    "data = data[~data['Genre'].isin(to_drop)]"
   ]
  },
  {
   "cell_type": "code",
   "execution_count": null,
   "metadata": {
    "colab": {
     "base_uri": "https://localhost:8080/"
    },
    "id": "IJBE-qzfYPkk",
    "outputId": "69f8473f-d178-4fcc-cb4c-f8d66b2adbdf"
   },
   "outputs": [
    {
     "data": {
      "text/plain": [
       "Drama          125\n",
       "Comedy          96\n",
       "Action          50\n",
       "Documentary     47\n",
       "Adventure       28\n",
       "Crime           26\n",
       "Animation       24\n",
       "Biography       16\n",
       "Horror           9\n",
       "Romance          9\n",
       "Fantasy          8\n",
       "Reality-TV       6\n",
       "Music            4\n",
       "Family           4\n",
       "Mystery          3\n",
       "Talk-Show        2\n",
       "Thriller         2\n",
       "War              1\n",
       "Sport            1\n",
       "Short            1\n",
       "Name: Genre, dtype: int64"
      ]
     },
     "execution_count": 13,
     "metadata": {},
     "output_type": "execute_result"
    }
   ],
   "source": [
    "#ทำการเช็คข้อมูลอีกรอบ\n",
    "data['Genre'].value_counts()"
   ]
  },
  {
   "cell_type": "code",
   "execution_count": null,
   "metadata": {
    "id": "lapOU-PgwEGF"
   },
   "outputs": [],
   "source": [
    "#reset index\n",
    "data = data.reset_index(drop=True)"
   ]
  },
  {
   "cell_type": "code",
   "execution_count": null,
   "metadata": {
    "colab": {
     "base_uri": "https://localhost:8080/",
     "height": 419
    },
    "id": "te5g_ynCY6lJ",
    "outputId": "c83b2b8d-dcf0-407a-9f1b-640ccc6e501b"
   },
   "outputs": [
    {
     "data": {
      "text/html": [
       "<div>\n",
       "<style scoped>\n",
       "    .dataframe tbody tr th:only-of-type {\n",
       "        vertical-align: middle;\n",
       "    }\n",
       "\n",
       "    .dataframe tbody tr th {\n",
       "        vertical-align: top;\n",
       "    }\n",
       "\n",
       "    .dataframe thead th {\n",
       "        text-align: right;\n",
       "    }\n",
       "</style>\n",
       "<table border=\"1\" class=\"dataframe\">\n",
       "  <thead>\n",
       "    <tr style=\"text-align: right;\">\n",
       "      <th></th>\n",
       "      <th>Country</th>\n",
       "      <th>Region</th>\n",
       "      <th>Genre</th>\n",
       "      <th>IMDBrating</th>\n",
       "      <th>Title</th>\n",
       "      <th>Released</th>\n",
       "      <th>Type</th>\n",
       "    </tr>\n",
       "  </thead>\n",
       "  <tbody>\n",
       "    <tr>\n",
       "      <th>0</th>\n",
       "      <td>USA</td>\n",
       "      <td>North America</td>\n",
       "      <td>Documentary</td>\n",
       "      <td>5.2</td>\n",
       "      <td>A Glitch in the Matrix</td>\n",
       "      <td>2021</td>\n",
       "      <td>movie</td>\n",
       "    </tr>\n",
       "    <tr>\n",
       "      <th>1</th>\n",
       "      <td>USA</td>\n",
       "      <td>North America</td>\n",
       "      <td>Action</td>\n",
       "      <td>6.2</td>\n",
       "      <td>Below Zero</td>\n",
       "      <td>2021</td>\n",
       "      <td>movie</td>\n",
       "    </tr>\n",
       "    <tr>\n",
       "      <th>2</th>\n",
       "      <td>USA</td>\n",
       "      <td>North America</td>\n",
       "      <td>Adventure</td>\n",
       "      <td>7.0</td>\n",
       "      <td>Kaamelott: First Installment</td>\n",
       "      <td>2021</td>\n",
       "      <td>movie</td>\n",
       "    </tr>\n",
       "    <tr>\n",
       "      <th>3</th>\n",
       "      <td>USA</td>\n",
       "      <td>North America</td>\n",
       "      <td>Action</td>\n",
       "      <td>6.4</td>\n",
       "      <td>The Vault</td>\n",
       "      <td>2021</td>\n",
       "      <td>movie</td>\n",
       "    </tr>\n",
       "    <tr>\n",
       "      <th>4</th>\n",
       "      <td>USA</td>\n",
       "      <td>North America</td>\n",
       "      <td>Drama</td>\n",
       "      <td>6.1</td>\n",
       "      <td>Crisis</td>\n",
       "      <td>2021</td>\n",
       "      <td>movie</td>\n",
       "    </tr>\n",
       "    <tr>\n",
       "      <th>...</th>\n",
       "      <td>...</td>\n",
       "      <td>...</td>\n",
       "      <td>...</td>\n",
       "      <td>...</td>\n",
       "      <td>...</td>\n",
       "      <td>...</td>\n",
       "      <td>...</td>\n",
       "    </tr>\n",
       "    <tr>\n",
       "      <th>457</th>\n",
       "      <td>China</td>\n",
       "      <td>Asia</td>\n",
       "      <td>Drama</td>\n",
       "      <td>7.8</td>\n",
       "      <td>Find Yourself</td>\n",
       "      <td>2020</td>\n",
       "      <td>tvSeries</td>\n",
       "    </tr>\n",
       "    <tr>\n",
       "      <th>458</th>\n",
       "      <td>China</td>\n",
       "      <td>Asia</td>\n",
       "      <td>Drama</td>\n",
       "      <td>7.9</td>\n",
       "      <td>Run for Young</td>\n",
       "      <td>2020</td>\n",
       "      <td>tvSeries</td>\n",
       "    </tr>\n",
       "    <tr>\n",
       "      <th>459</th>\n",
       "      <td>China</td>\n",
       "      <td>Asia</td>\n",
       "      <td>Drama</td>\n",
       "      <td>6.5</td>\n",
       "      <td>Detective Chinatown</td>\n",
       "      <td>2020</td>\n",
       "      <td>tvSeries</td>\n",
       "    </tr>\n",
       "    <tr>\n",
       "      <th>460</th>\n",
       "      <td>China</td>\n",
       "      <td>Asia</td>\n",
       "      <td>Comedy</td>\n",
       "      <td>7.6</td>\n",
       "      <td>Rebirth of Shopping Addict</td>\n",
       "      <td>2020</td>\n",
       "      <td>tvSeries</td>\n",
       "    </tr>\n",
       "    <tr>\n",
       "      <th>461</th>\n",
       "      <td>China</td>\n",
       "      <td>Asia</td>\n",
       "      <td>Action</td>\n",
       "      <td>6.3</td>\n",
       "      <td>Hunting</td>\n",
       "      <td>2020</td>\n",
       "      <td>tvSeries</td>\n",
       "    </tr>\n",
       "  </tbody>\n",
       "</table>\n",
       "<p>462 rows × 7 columns</p>\n",
       "</div>"
      ],
      "text/plain": [
       "    Country         Region  ... Released      Type\n",
       "0       USA  North America  ...     2021     movie\n",
       "1       USA  North America  ...     2021     movie\n",
       "2       USA  North America  ...     2021     movie\n",
       "3       USA  North America  ...     2021     movie\n",
       "4       USA  North America  ...     2021     movie\n",
       "..      ...            ...  ...      ...       ...\n",
       "457   China           Asia  ...     2020  tvSeries\n",
       "458   China           Asia  ...     2020  tvSeries\n",
       "459   China           Asia  ...     2020  tvSeries\n",
       "460   China           Asia  ...     2020  tvSeries\n",
       "461   China           Asia  ...     2020  tvSeries\n",
       "\n",
       "[462 rows x 7 columns]"
      ]
     },
     "execution_count": 15,
     "metadata": {},
     "output_type": "execute_result"
    }
   ],
   "source": [
    "#ข้อมูลหลังจากทำการ Clean data จะเหลือข้อมูลทั้งหมด 462 row\n",
    "data"
   ]
  },
  {
   "cell_type": "markdown",
   "metadata": {
    "id": "sO9TL3U8LnRJ"
   },
   "source": [
    "#Task5 : Data Visualization"
   ]
  },
  {
   "cell_type": "markdown",
   "metadata": {
    "id": "2c_1ECJkHWTl"
   },
   "source": [
    "##เปรียบเทียบจำนวนของ OTT(ภาพยนตร์,รายการโทรทัศน์,ซีรีย์,ทีวีโชว์)ในแต่ละประเภท"
   ]
  },
  {
   "cell_type": "code",
   "execution_count": null,
   "metadata": {
    "colab": {
     "base_uri": "https://localhost:8080/",
     "height": 629
    },
    "id": "gp1Al7H9dFUb",
    "outputId": "69efdd44-0620-40db-fa07-3e7aa5e5a01a"
   },
   "outputs": [
    {
     "data": {
      "image/png": "[encoded data removed]",
      "text/plain": [
       "<Figure size 1584x720 with 1 Axes>"
      ]
     },
     "metadata": {},
     "output_type": "display_data"
    }
   ],
   "source": [
    "#Set Theme Graph\n",
    "sns.set_theme(style=\"darkgrid\")\n",
    "#กำหนดขนาดของกราฟ\n",
    "countplt, ax = plt.subplots(figsize = (22,10))\n",
    "#สร้างกราฟ Bar chart ที่แสดงจำนวนของ OTT ในแต่ละประเภท\n",
    "sns.countplot(x='Genre', data = data).set_title(\"Genre of OTT\",fontsize = 15, fontweight='bold')\n",
    "#แสดงจำนวนในกราฟแต่ละแท่ง\n",
    "for rect in ax.patches:\n",
    "    ax.text (rect.get_x() + rect.get_width() / 2,rect.get_height()+ 0.75,rect.get_height(),horizontalalignment='center', fontsize = 11)"
   ]
  },
  {
   "cell_type": "markdown",
   "metadata": {
    "id": "u1ycHBQcOQoI"
   },
   "source": [
    "กราฟ Genre of OTT  แสดงให้เห็นว่าข้อมูลประเภท Drama มีจำนวนสูงมากที่สุดคือ 125 เรื่องและประเภท Comedy 96 เรื่อง\n",
    "\n",
    "จึงจะเลือกใช้ข้อมูลแค่ 2 ประเภทคือ Drama และ Comedy \n",
    "\n",
    "\n"
   ]
  },
  {
   "cell_type": "markdown",
   "metadata": {
    "id": "Lr6osYSyQxVU"
   },
   "source": [
    "## เปรียบเทียบจำนวนรูปแบบเนื้อหาของสื่อ OTT แต่ละชนิด"
   ]
  },
  {
   "cell_type": "markdown",
   "metadata": {
    "id": "MLLs_fdPQBum"
   },
   "source": [
    "จากข้อมูลกราฟ Genre of OTT จึงนำข้อมูลเฉพาะประเภท Drama และ Comedy เพื่อมาใช้เปรียบเทียบรูปแบบสื่อว่ามีการผลิตสื่อออกมาเป็นรูปแบบไหนบ้าง"
   ]
  },
  {
   "cell_type": "code",
   "execution_count": null,
   "metadata": {
    "colab": {
     "base_uri": "https://localhost:8080/",
     "height": 204
    },
    "id": "vloq17sdhkxe",
    "outputId": "b7517bb9-d5db-407c-91a0-a48c0cd174bb"
   },
   "outputs": [
    {
     "data": {
      "text/html": [
       "<div>\n",
       "<style scoped>\n",
       "    .dataframe tbody tr th:only-of-type {\n",
       "        vertical-align: middle;\n",
       "    }\n",
       "\n",
       "    .dataframe tbody tr th {\n",
       "        vertical-align: top;\n",
       "    }\n",
       "\n",
       "    .dataframe thead th {\n",
       "        text-align: right;\n",
       "    }\n",
       "</style>\n",
       "<table border=\"1\" class=\"dataframe\">\n",
       "  <thead>\n",
       "    <tr style=\"text-align: right;\">\n",
       "      <th></th>\n",
       "      <th>Country</th>\n",
       "      <th>Region</th>\n",
       "      <th>Genre</th>\n",
       "      <th>IMDBrating</th>\n",
       "      <th>Title</th>\n",
       "      <th>Released</th>\n",
       "      <th>Type</th>\n",
       "    </tr>\n",
       "  </thead>\n",
       "  <tbody>\n",
       "    <tr>\n",
       "      <th>4</th>\n",
       "      <td>USA</td>\n",
       "      <td>North America</td>\n",
       "      <td>Drama</td>\n",
       "      <td>6.1</td>\n",
       "      <td>Crisis</td>\n",
       "      <td>2021</td>\n",
       "      <td>movie</td>\n",
       "    </tr>\n",
       "    <tr>\n",
       "      <th>5</th>\n",
       "      <td>USA</td>\n",
       "      <td>North America</td>\n",
       "      <td>Drama</td>\n",
       "      <td>6.7</td>\n",
       "      <td>Fear Street: Part Two - 1978</td>\n",
       "      <td>2021</td>\n",
       "      <td>movie</td>\n",
       "    </tr>\n",
       "    <tr>\n",
       "      <th>8</th>\n",
       "      <td>USA</td>\n",
       "      <td>North America</td>\n",
       "      <td>Comedy</td>\n",
       "      <td>5.5</td>\n",
       "      <td>Off the Rails</td>\n",
       "      <td>2021</td>\n",
       "      <td>movie</td>\n",
       "    </tr>\n",
       "    <tr>\n",
       "      <th>9</th>\n",
       "      <td>USA</td>\n",
       "      <td>North America</td>\n",
       "      <td>Comedy</td>\n",
       "      <td>6.6</td>\n",
       "      <td>Bad Trip</td>\n",
       "      <td>2021</td>\n",
       "      <td>movie</td>\n",
       "    </tr>\n",
       "    <tr>\n",
       "      <th>13</th>\n",
       "      <td>USA</td>\n",
       "      <td>North America</td>\n",
       "      <td>Comedy</td>\n",
       "      <td>7.1</td>\n",
       "      <td>Breakup Masters</td>\n",
       "      <td>2021</td>\n",
       "      <td>movie</td>\n",
       "    </tr>\n",
       "  </tbody>\n",
       "</table>\n",
       "</div>"
      ],
      "text/plain": [
       "   Country         Region  ... Released   Type\n",
       "4      USA  North America  ...     2021  movie\n",
       "5      USA  North America  ...     2021  movie\n",
       "8      USA  North America  ...     2021  movie\n",
       "9      USA  North America  ...     2021  movie\n",
       "13     USA  North America  ...     2021  movie\n",
       "\n",
       "[5 rows x 7 columns]"
      ]
     },
     "execution_count": 50,
     "metadata": {},
     "output_type": "execute_result"
    }
   ],
   "source": [
    "#Filter data เลือกเฉพาะข้อมูลสื่อประเภท Drama และ Comedy\n",
    "ComedyDrama_Group = data.query(\"Genre == ['Comedy','Drama']\")\n",
    "ComedyDrama_Group.head(5)"
   ]
  },
  {
   "cell_type": "code",
   "execution_count": null,
   "metadata": {
    "colab": {
     "base_uri": "https://localhost:8080/",
     "height": 520
    },
    "id": "4DbPHNzbaCjR",
    "outputId": "3e8e96c5-d082-4a9c-d458-debce8511b61"
   },
   "outputs": [
    {
     "data": {
      "image/png": "[encoded data removed]",
      "text/plain": [
       "<Figure size 576x576 with 1 Axes>"
      ]
     },
     "metadata": {},
     "output_type": "display_data"
    }
   ],
   "source": [
    "#กำหนดขนาดของกราฟ\n",
    "countplt, ax = plt.subplots(figsize = (8,8))\n",
    "#สร้างกราฟ Bar chart ที่แสดงจำนวนของ OTT ในแต่ละประเภท\n",
    "sns.countplot(x ='Type', hue='Genre', data = ComedyDrama_Group ,palette='pastel').set_title(\"Type of OTT\",fontsize = 15, fontweight='bold')\n",
    "#แสดงจำนวนในกราฟแต่ละแท่ง\n",
    "for rect in ax.patches:\n",
    "    ax.text (rect.get_x() + rect.get_width() / 2,rect.get_height()+ 0.75,rect.get_height(),horizontalalignment='center', fontsize = 11)"
   ]
  },
  {
   "cell_type": "markdown",
   "metadata": {
    "id": "RyrNHSSqeorY"
   },
   "source": [
    "กราฟ Type of OTT จะแสดงให้เห็นว่าข้อมูลประเภท Drama และ Comedy ส่วนใหญ่จะเป็นภาพยนต์ และ Tv-Series "
   ]
  },
  {
   "cell_type": "markdown",
   "metadata": {
    "id": "rBE6usOIUlSR"
   },
   "source": [
    "##เปรียบเทียบแนวโน้มคะแนน IMDBrating ระหว่าง TV-Series กับ Movie\n",
    "\n",
    "\n",
    "\n"
   ]
  },
  {
   "cell_type": "code",
   "execution_count": null,
   "metadata": {
    "id": "XBJSuFrsT7UX"
   },
   "outputs": [],
   "source": [
    "จากข้อมูลกราฟ Type of OTT จึงจะนำ TV-Series มาเปรียบเทียบคะแนน IMDBrating กับ Movie เพื่อดูแนวโน้มของคะแนน"
   ]
  },
  {
   "cell_type": "code",
   "execution_count": null,
   "metadata": {
    "colab": {
     "base_uri": "https://localhost:8080/",
     "height": 142
    },
    "id": "EZs7u1vR27Id",
    "outputId": "9ffbdfd1-20bf-4874-e962-2b8c19b1a3a5"
   },
   "outputs": [
    {
     "data": {
      "text/html": [
       "<div>\n",
       "<style scoped>\n",
       "    .dataframe tbody tr th:only-of-type {\n",
       "        vertical-align: middle;\n",
       "    }\n",
       "\n",
       "    .dataframe tbody tr th {\n",
       "        vertical-align: top;\n",
       "    }\n",
       "\n",
       "    .dataframe thead th {\n",
       "        text-align: right;\n",
       "    }\n",
       "</style>\n",
       "<table border=\"1\" class=\"dataframe\">\n",
       "  <thead>\n",
       "    <tr style=\"text-align: right;\">\n",
       "      <th></th>\n",
       "      <th>Country</th>\n",
       "      <th>Region</th>\n",
       "      <th>Genre</th>\n",
       "      <th>IMDBrating</th>\n",
       "      <th>Title</th>\n",
       "      <th>Released</th>\n",
       "      <th>Type</th>\n",
       "    </tr>\n",
       "  </thead>\n",
       "  <tbody>\n",
       "    <tr>\n",
       "      <th>98</th>\n",
       "      <td>France</td>\n",
       "      <td>Europe</td>\n",
       "      <td>Drama</td>\n",
       "      <td>8.2</td>\n",
       "      <td>En thérapie</td>\n",
       "      <td>2021</td>\n",
       "      <td>tvSeries</td>\n",
       "    </tr>\n",
       "    <tr>\n",
       "      <th>131</th>\n",
       "      <td>Croatia</td>\n",
       "      <td>Europe</td>\n",
       "      <td>Drama</td>\n",
       "      <td>8.3</td>\n",
       "      <td>Make It with You</td>\n",
       "      <td>2020</td>\n",
       "      <td>tvSeries</td>\n",
       "    </tr>\n",
       "    <tr>\n",
       "      <th>176</th>\n",
       "      <td>Thailand</td>\n",
       "      <td>Asia</td>\n",
       "      <td>Drama</td>\n",
       "      <td>7.6</td>\n",
       "      <td>Why R U?</td>\n",
       "      <td>2020</td>\n",
       "      <td>tvSeries</td>\n",
       "    </tr>\n",
       "  </tbody>\n",
       "</table>\n",
       "</div>"
      ],
      "text/plain": [
       "      Country  Region  Genre  IMDBrating             Title  Released      Type\n",
       "98     France  Europe  Drama         8.2       En thérapie      2021  tvSeries\n",
       "131   Croatia  Europe  Drama         8.3  Make It with You      2020  tvSeries\n",
       "176  Thailand    Asia  Drama         7.6          Why R U?      2020  tvSeries"
      ]
     },
     "execution_count": 69,
     "metadata": {},
     "output_type": "execute_result"
    }
   ],
   "source": [
    "#Filter data เลือกเฉพาะข้อมูลสื่อประเภท Drama TV-Series\n",
    "dataTVdrama = data.query(\"Genre == 'Drama'& Type == 'tvSeries'\")\n",
    "dataTVdrama.head(3)"
   ]
  },
  {
   "cell_type": "code",
   "execution_count": null,
   "metadata": {
    "colab": {
     "base_uri": "https://localhost:8080/",
     "height": 142
    },
    "id": "nX0XsKT45j5y",
    "outputId": "b254a78e-56fd-4fd2-87b9-9523276d7480"
   },
   "outputs": [
    {
     "data": {
      "text/html": [
       "<div>\n",
       "<style scoped>\n",
       "    .dataframe tbody tr th:only-of-type {\n",
       "        vertical-align: middle;\n",
       "    }\n",
       "\n",
       "    .dataframe tbody tr th {\n",
       "        vertical-align: top;\n",
       "    }\n",
       "\n",
       "    .dataframe thead th {\n",
       "        text-align: right;\n",
       "    }\n",
       "</style>\n",
       "<table border=\"1\" class=\"dataframe\">\n",
       "  <thead>\n",
       "    <tr style=\"text-align: right;\">\n",
       "      <th></th>\n",
       "      <th>Country</th>\n",
       "      <th>Region</th>\n",
       "      <th>Genre</th>\n",
       "      <th>IMDBrating</th>\n",
       "      <th>Title</th>\n",
       "      <th>Released</th>\n",
       "      <th>Type</th>\n",
       "    </tr>\n",
       "  </thead>\n",
       "  <tbody>\n",
       "    <tr>\n",
       "      <th>4</th>\n",
       "      <td>USA</td>\n",
       "      <td>North America</td>\n",
       "      <td>Drama</td>\n",
       "      <td>6.1</td>\n",
       "      <td>Crisis</td>\n",
       "      <td>2021</td>\n",
       "      <td>movie</td>\n",
       "    </tr>\n",
       "    <tr>\n",
       "      <th>5</th>\n",
       "      <td>USA</td>\n",
       "      <td>North America</td>\n",
       "      <td>Drama</td>\n",
       "      <td>6.7</td>\n",
       "      <td>Fear Street: Part Two - 1978</td>\n",
       "      <td>2021</td>\n",
       "      <td>movie</td>\n",
       "    </tr>\n",
       "    <tr>\n",
       "      <th>17</th>\n",
       "      <td>Germany</td>\n",
       "      <td>Europe</td>\n",
       "      <td>Drama</td>\n",
       "      <td>6.7</td>\n",
       "      <td>The Auschwitz Report</td>\n",
       "      <td>2021</td>\n",
       "      <td>movie</td>\n",
       "    </tr>\n",
       "  </tbody>\n",
       "</table>\n",
       "</div>"
      ],
      "text/plain": [
       "    Country         Region  ... Released   Type\n",
       "4       USA  North America  ...     2021  movie\n",
       "5       USA  North America  ...     2021  movie\n",
       "17  Germany         Europe  ...     2021  movie\n",
       "\n",
       "[3 rows x 7 columns]"
      ]
     },
     "execution_count": 70,
     "metadata": {},
     "output_type": "execute_result"
    }
   ],
   "source": [
    "#Filter data เลือกเฉพาะข้อมูลสื่อประเภท Drama Movie\n",
    "datamoviedrama = data.query(\"Genre == 'Drama'& Type == 'movie'\")\n",
    "datamoviedrama.head(3)"
   ]
  },
  {
   "cell_type": "code",
   "execution_count": null,
   "metadata": {
    "colab": {
     "base_uri": "https://localhost:8080/",
     "height": 142
    },
    "id": "jkIX1SW45ksE",
    "outputId": "1b479c7f-90e8-47d3-dcc6-4b3baf085bb0"
   },
   "outputs": [
    {
     "data": {
      "text/html": [
       "<div>\n",
       "<style scoped>\n",
       "    .dataframe tbody tr th:only-of-type {\n",
       "        vertical-align: middle;\n",
       "    }\n",
       "\n",
       "    .dataframe tbody tr th {\n",
       "        vertical-align: top;\n",
       "    }\n",
       "\n",
       "    .dataframe thead th {\n",
       "        text-align: right;\n",
       "    }\n",
       "</style>\n",
       "<table border=\"1\" class=\"dataframe\">\n",
       "  <thead>\n",
       "    <tr style=\"text-align: right;\">\n",
       "      <th></th>\n",
       "      <th>Country</th>\n",
       "      <th>Region</th>\n",
       "      <th>Genre</th>\n",
       "      <th>IMDBrating</th>\n",
       "      <th>Title</th>\n",
       "      <th>Released</th>\n",
       "      <th>Type</th>\n",
       "    </tr>\n",
       "  </thead>\n",
       "  <tbody>\n",
       "    <tr>\n",
       "      <th>28</th>\n",
       "      <td>Germany</td>\n",
       "      <td>Europe</td>\n",
       "      <td>Comedy</td>\n",
       "      <td>8.0</td>\n",
       "      <td>Dr. Ballouz</td>\n",
       "      <td>2021</td>\n",
       "      <td>tvSeries</td>\n",
       "    </tr>\n",
       "    <tr>\n",
       "      <th>90</th>\n",
       "      <td>France</td>\n",
       "      <td>Europe</td>\n",
       "      <td>Comedy</td>\n",
       "      <td>7.8</td>\n",
       "      <td>OVNI(s)</td>\n",
       "      <td>2021</td>\n",
       "      <td>tvSeries</td>\n",
       "    </tr>\n",
       "    <tr>\n",
       "      <th>102</th>\n",
       "      <td>France</td>\n",
       "      <td>Europe</td>\n",
       "      <td>Comedy</td>\n",
       "      <td>8.0</td>\n",
       "      <td>Mixte</td>\n",
       "      <td>2021</td>\n",
       "      <td>tvSeries</td>\n",
       "    </tr>\n",
       "  </tbody>\n",
       "</table>\n",
       "</div>"
      ],
      "text/plain": [
       "     Country  Region   Genre  IMDBrating        Title  Released      Type\n",
       "28   Germany  Europe  Comedy         8.0  Dr. Ballouz      2021  tvSeries\n",
       "90    France  Europe  Comedy         7.8      OVNI(s)      2021  tvSeries\n",
       "102   France  Europe  Comedy         8.0        Mixte      2021  tvSeries"
      ]
     },
     "execution_count": 71,
     "metadata": {},
     "output_type": "execute_result"
    }
   ],
   "source": [
    "#Filter data เลือกเฉพาะข้อมูลสื่อประเภท Comedy TV-Series\n",
    "dataTVCom = data.query(\"Genre == 'Comedy'& Type == 'tvSeries'\")\n",
    "dataTVCom.head(3)"
   ]
  },
  {
   "cell_type": "code",
   "execution_count": null,
   "metadata": {
    "colab": {
     "base_uri": "https://localhost:8080/",
     "height": 142
    },
    "id": "F9rb_Wdd5lu1",
    "outputId": "67a48455-defd-4ae0-85f7-8330d5886e6e"
   },
   "outputs": [
    {
     "data": {
      "text/html": [
       "<div>\n",
       "<style scoped>\n",
       "    .dataframe tbody tr th:only-of-type {\n",
       "        vertical-align: middle;\n",
       "    }\n",
       "\n",
       "    .dataframe tbody tr th {\n",
       "        vertical-align: top;\n",
       "    }\n",
       "\n",
       "    .dataframe thead th {\n",
       "        text-align: right;\n",
       "    }\n",
       "</style>\n",
       "<table border=\"1\" class=\"dataframe\">\n",
       "  <thead>\n",
       "    <tr style=\"text-align: right;\">\n",
       "      <th></th>\n",
       "      <th>Country</th>\n",
       "      <th>Region</th>\n",
       "      <th>Genre</th>\n",
       "      <th>IMDBrating</th>\n",
       "      <th>Title</th>\n",
       "      <th>Released</th>\n",
       "      <th>Type</th>\n",
       "    </tr>\n",
       "  </thead>\n",
       "  <tbody>\n",
       "    <tr>\n",
       "      <th>8</th>\n",
       "      <td>USA</td>\n",
       "      <td>North America</td>\n",
       "      <td>Comedy</td>\n",
       "      <td>5.5</td>\n",
       "      <td>Off the Rails</td>\n",
       "      <td>2021</td>\n",
       "      <td>movie</td>\n",
       "    </tr>\n",
       "    <tr>\n",
       "      <th>9</th>\n",
       "      <td>USA</td>\n",
       "      <td>North America</td>\n",
       "      <td>Comedy</td>\n",
       "      <td>6.6</td>\n",
       "      <td>Bad Trip</td>\n",
       "      <td>2021</td>\n",
       "      <td>movie</td>\n",
       "    </tr>\n",
       "    <tr>\n",
       "      <th>13</th>\n",
       "      <td>USA</td>\n",
       "      <td>North America</td>\n",
       "      <td>Comedy</td>\n",
       "      <td>7.1</td>\n",
       "      <td>Breakup Masters</td>\n",
       "      <td>2021</td>\n",
       "      <td>movie</td>\n",
       "    </tr>\n",
       "  </tbody>\n",
       "</table>\n",
       "</div>"
      ],
      "text/plain": [
       "   Country         Region   Genre  IMDBrating            Title  Released   Type\n",
       "8      USA  North America  Comedy         5.5    Off the Rails      2021  movie\n",
       "9      USA  North America  Comedy         6.6         Bad Trip      2021  movie\n",
       "13     USA  North America  Comedy         7.1  Breakup Masters      2021  movie"
      ]
     },
     "execution_count": 72,
     "metadata": {},
     "output_type": "execute_result"
    }
   ],
   "source": [
    "#Filter data เลือกเฉพาะข้อมูลสื่อประเภท Comedy Movie\n",
    "datamovieCom = data.query(\"Genre == 'Comedy'& Type == 'movie'\")\n",
    "datamovieCom.head(3)"
   ]
  },
  {
   "cell_type": "code",
   "execution_count": null,
   "metadata": {
    "colab": {
     "base_uri": "https://localhost:8080/",
     "height": 738
    },
    "id": "LUpg8lRQPdn9",
    "outputId": "277b300e-0d93-4107-f3ee-48d62c382d7b"
   },
   "outputs": [
    {
     "data": {
      "image/png": "[encoded data removed]",
      "text/plain": [
       "<Figure size 1800x864 with 4 Axes>"
      ]
     },
     "metadata": {},
     "output_type": "display_data"
    }
   ],
   "source": [
    "#กำหนดขนาดของกราฟ\n",
    "sns.set(rc={'figure.figsize':(25,12)})\n",
    "fig, ax = plt.subplots(2,2)\n",
    "#สร้างกราฟเส้นแนวโน้ม IMDBrating Drama TV-Series\n",
    "sns.lineplot(data = dataTVdrama, y = 'IMDBrating', x = 'Released', ax=ax[0,0], color='chocolate').set_title(\"Drama TV-Series\",fontsize = 15, fontweight='bold')\n",
    "#สร้างกราฟเส้นแแนวโน้ม IMDBrating Drama Movie\n",
    "sns.lineplot(data = datamoviedrama, y = 'IMDBrating', x = 'Released', ax=ax[0,1], color='chocolate').set_title(\"Drama Movie\",fontsize = 15, fontweight='bold')\n",
    "#สร้างกราฟเส้นแแนวโน้ม IMDBrating Comedy TV-Series\n",
    "sns.lineplot(data = dataTVCom, y = 'IMDBrating', x = 'Released', ax=ax[1,0]).set_title(\"Comedy TV-Series\",fontsize = 15, fontweight='bold')\n",
    "#สร้างกราฟเส้นแแนวโน้ม IMDBrating Comedy Movie\n",
    "sns.lineplot(data = datamovieCom, y = 'IMDBrating', x = 'Released', ax=ax[1,1]).set_title(\"Comedy Movie\",fontsize = 15, fontweight='bold')\n",
    "fig.show()"
   ]
  },
  {
   "cell_type": "markdown",
   "metadata": {
    "id": "ejexftoG53iq"
   },
   "source": [
    "แนวโน้มของ TV-Series ในปัจจุบันมีการเพิ่มขึ้นของ rating ตั้งแต่ปี 2020-2021 ทั้งประเภท Drama และ Comedy \n",
    "\n",
    "แต่ในส่วนของภาพยนต์ประเภท Drama นั้นมีการลดลงของ rating อย่างต่อเนื่อง\n"
   ]
  },
  {
   "cell_type": "markdown",
   "metadata": {
    "id": "OWu3ETUkHBZ2"
   },
   "source": [
    "## สัดส่วนแต่ละภูมิภาคที่ผลิต TV-Series ตั้งแต่ปี 2020 จนถึงปัจจุบัน"
   ]
  },
  {
   "cell_type": "markdown",
   "metadata": {
    "id": "XfNMZwZpVuDt"
   },
   "source": [
    "ข้อมูลเปรียบเทียบ IMDB-rating TV-Series มีแนวโน้มการเพิ่มขึ้นของเรทติ้งที่ดีจึงเลือกใช้ข้อมูล TV-Series เพื่อนำมาดูภูมิภาคที่ผลิตว่าผลิตจากที่ใดบ้าง"
   ]
  },
  {
   "cell_type": "code",
   "execution_count": null,
   "metadata": {
    "colab": {
     "base_uri": "https://localhost:8080/",
     "height": 204
    },
    "id": "LsrTi1oKAR0v",
    "outputId": "d719f72c-311f-4600-c81b-b0e451c2954e"
   },
   "outputs": [
    {
     "data": {
      "text/html": [
       "<div>\n",
       "<style scoped>\n",
       "    .dataframe tbody tr th:only-of-type {\n",
       "        vertical-align: middle;\n",
       "    }\n",
       "\n",
       "    .dataframe tbody tr th {\n",
       "        vertical-align: top;\n",
       "    }\n",
       "\n",
       "    .dataframe thead th {\n",
       "        text-align: right;\n",
       "    }\n",
       "</style>\n",
       "<table border=\"1\" class=\"dataframe\">\n",
       "  <thead>\n",
       "    <tr style=\"text-align: right;\">\n",
       "      <th></th>\n",
       "      <th>Country</th>\n",
       "      <th>Region</th>\n",
       "      <th>Genre</th>\n",
       "      <th>IMDBrating</th>\n",
       "      <th>Title</th>\n",
       "      <th>Released</th>\n",
       "      <th>Type</th>\n",
       "    </tr>\n",
       "  </thead>\n",
       "  <tbody>\n",
       "    <tr>\n",
       "      <th>28</th>\n",
       "      <td>Germany</td>\n",
       "      <td>Europe</td>\n",
       "      <td>Comedy</td>\n",
       "      <td>8.0</td>\n",
       "      <td>Dr. Ballouz</td>\n",
       "      <td>2021</td>\n",
       "      <td>tvSeries</td>\n",
       "    </tr>\n",
       "    <tr>\n",
       "      <th>90</th>\n",
       "      <td>France</td>\n",
       "      <td>Europe</td>\n",
       "      <td>Comedy</td>\n",
       "      <td>7.8</td>\n",
       "      <td>OVNI(s)</td>\n",
       "      <td>2021</td>\n",
       "      <td>tvSeries</td>\n",
       "    </tr>\n",
       "    <tr>\n",
       "      <th>98</th>\n",
       "      <td>France</td>\n",
       "      <td>Europe</td>\n",
       "      <td>Drama</td>\n",
       "      <td>8.2</td>\n",
       "      <td>En thérapie</td>\n",
       "      <td>2021</td>\n",
       "      <td>tvSeries</td>\n",
       "    </tr>\n",
       "    <tr>\n",
       "      <th>102</th>\n",
       "      <td>France</td>\n",
       "      <td>Europe</td>\n",
       "      <td>Comedy</td>\n",
       "      <td>8.0</td>\n",
       "      <td>Mixte</td>\n",
       "      <td>2021</td>\n",
       "      <td>tvSeries</td>\n",
       "    </tr>\n",
       "    <tr>\n",
       "      <th>129</th>\n",
       "      <td>Croatia</td>\n",
       "      <td>Europe</td>\n",
       "      <td>Comedy</td>\n",
       "      <td>8.6</td>\n",
       "      <td>Pervanov dnevnik</td>\n",
       "      <td>2020</td>\n",
       "      <td>tvSeries</td>\n",
       "    </tr>\n",
       "  </tbody>\n",
       "</table>\n",
       "</div>"
      ],
      "text/plain": [
       "     Country  Region   Genre  IMDBrating             Title  Released      Type\n",
       "28   Germany  Europe  Comedy         8.0       Dr. Ballouz      2021  tvSeries\n",
       "90    France  Europe  Comedy         7.8           OVNI(s)      2021  tvSeries\n",
       "98    France  Europe   Drama         8.2       En thérapie      2021  tvSeries\n",
       "102   France  Europe  Comedy         8.0             Mixte      2021  tvSeries\n",
       "129  Croatia  Europe  Comedy         8.6  Pervanov dnevnik      2020  tvSeries"
      ]
     },
     "execution_count": 110,
     "metadata": {},
     "output_type": "execute_result"
    }
   ],
   "source": [
    "#Filter data เลือกเฉพาะข้อมูล TV-Series ที่ออกฉายตั้งแต่ปี 2020-ปัจจุบัน\n",
    "groupDramaTV = data.query(\"Genre == 'Drama' & Type == 'tvSeries'& Released == ['2020','2021']\")\n",
    "groupDramaTV.head(5)"
   ]
  },
  {
   "cell_type": "code",
   "execution_count": null,
   "metadata": {
    "colab": {
     "base_uri": "https://localhost:8080/",
     "height": 204
    },
    "id": "1XrxPIj3Dg1l",
    "outputId": "445b5fe5-b712-4820-e18a-e3b5318d808f"
   },
   "outputs": [
    {
     "data": {
      "text/html": [
       "<div>\n",
       "<style scoped>\n",
       "    .dataframe tbody tr th:only-of-type {\n",
       "        vertical-align: middle;\n",
       "    }\n",
       "\n",
       "    .dataframe tbody tr th {\n",
       "        vertical-align: top;\n",
       "    }\n",
       "\n",
       "    .dataframe thead th {\n",
       "        text-align: right;\n",
       "    }\n",
       "</style>\n",
       "<table border=\"1\" class=\"dataframe\">\n",
       "  <thead>\n",
       "    <tr style=\"text-align: right;\">\n",
       "      <th></th>\n",
       "      <th>Country</th>\n",
       "      <th>Region</th>\n",
       "      <th>Genre</th>\n",
       "      <th>IMDBrating</th>\n",
       "      <th>Title</th>\n",
       "      <th>Released</th>\n",
       "      <th>Type</th>\n",
       "    </tr>\n",
       "  </thead>\n",
       "  <tbody>\n",
       "    <tr>\n",
       "      <th>28</th>\n",
       "      <td>Germany</td>\n",
       "      <td>Europe</td>\n",
       "      <td>Comedy</td>\n",
       "      <td>8.0</td>\n",
       "      <td>Dr. Ballouz</td>\n",
       "      <td>2021</td>\n",
       "      <td>tvSeries</td>\n",
       "    </tr>\n",
       "    <tr>\n",
       "      <th>90</th>\n",
       "      <td>France</td>\n",
       "      <td>Europe</td>\n",
       "      <td>Comedy</td>\n",
       "      <td>7.8</td>\n",
       "      <td>OVNI(s)</td>\n",
       "      <td>2021</td>\n",
       "      <td>tvSeries</td>\n",
       "    </tr>\n",
       "    <tr>\n",
       "      <th>102</th>\n",
       "      <td>France</td>\n",
       "      <td>Europe</td>\n",
       "      <td>Comedy</td>\n",
       "      <td>8.0</td>\n",
       "      <td>Mixte</td>\n",
       "      <td>2021</td>\n",
       "      <td>tvSeries</td>\n",
       "    </tr>\n",
       "    <tr>\n",
       "      <th>129</th>\n",
       "      <td>Croatia</td>\n",
       "      <td>Europe</td>\n",
       "      <td>Comedy</td>\n",
       "      <td>8.6</td>\n",
       "      <td>Pervanov dnevnik</td>\n",
       "      <td>2020</td>\n",
       "      <td>tvSeries</td>\n",
       "    </tr>\n",
       "    <tr>\n",
       "      <th>130</th>\n",
       "      <td>Croatia</td>\n",
       "      <td>Europe</td>\n",
       "      <td>Comedy</td>\n",
       "      <td>6.8</td>\n",
       "      <td>Blago nama</td>\n",
       "      <td>2020</td>\n",
       "      <td>tvSeries</td>\n",
       "    </tr>\n",
       "  </tbody>\n",
       "</table>\n",
       "</div>"
      ],
      "text/plain": [
       "     Country  Region   Genre  IMDBrating             Title  Released      Type\n",
       "28   Germany  Europe  Comedy         8.0       Dr. Ballouz      2021  tvSeries\n",
       "90    France  Europe  Comedy         7.8           OVNI(s)      2021  tvSeries\n",
       "102   France  Europe  Comedy         8.0             Mixte      2021  tvSeries\n",
       "129  Croatia  Europe  Comedy         8.6  Pervanov dnevnik      2020  tvSeries\n",
       "130  Croatia  Europe  Comedy         6.8        Blago nama      2020  tvSeries"
      ]
     },
     "execution_count": 111,
     "metadata": {},
     "output_type": "execute_result"
    }
   ],
   "source": [
    "#Filter data เลือกเฉพาะข้อมูล TV-Series ที่ออกฉายตั้งแต่ปี 2020-ปัจจุบัน\n",
    "groupComedyTV = data.query(\"Genre == 'Comedy'& Type == 'tvSeries'& Released == ['2020','2021']\")\n",
    "groupComedyTV .head(5)"
   ]
  },
  {
   "cell_type": "code",
   "execution_count": null,
   "metadata": {
    "id": "wIP5W7i9Dtci"
   },
   "outputs": [],
   "source": [
    "#เลือก Value ที่มาใช้ใส่ labels\n",
    "regionlabels = groupregion['Region'].unique()\n",
    "#Sort labels data\n",
    "sortlablesregion = sorted(regionlabels)\n",
    "#Counts Value Drama TV-Series\n",
    "cRegionDrama = groupDramaTV['Region'].value_counts()\n",
    "#Counts Value Comedy TV-Series\n",
    "cRegionComedy = groupComedyTV['Region'].value_counts()"
   ]
  },
  {
   "cell_type": "code",
   "execution_count": null,
   "metadata": {
    "colab": {
     "base_uri": "https://localhost:8080/",
     "height": 542
    },
    "id": "E06PQu-I_LyJ",
    "outputId": "ba39b773-3c9b-4694-d33a-9ec9c91998a2"
   },
   "outputs": [
    {
     "data": {
      "text/html": [
       "<html>\n",
       "<head><meta charset=\"utf-8\" /></head>\n",
       "<body>\n",
       "    <div>\n",
       "            <script src=\"https://cdnjs.cloudflare.com/ajax/libs/mathjax/2.7.5/MathJax.js?config=TeX-AMS-MML_SVG\"></script><script type=\"text/javascript\">if (window.MathJax) {MathJax.Hub.Config({SVG: {font: \"STIX-Web\"}});}</script>\n",
       "                <script type=\"text/javascript\">window.PlotlyConfig = {MathJaxConfig: 'local'};</script>\n",
       "        <script src=\"https://cdn.plot.ly/plotly-latest.min.js\"></script>    \n",
       "            <div id=\"132ec76b-a8bc-4ada-a2d8-4fc1f07d2a6b\" class=\"plotly-graph-div\" style=\"height:525px; width:900px;\"></div>\n",
       "            <script type=\"text/javascript\">\n",
       "                \n",
       "                    window.PLOTLYENV=window.PLOTLYENV || {};\n",
       "                    \n",
       "                if (document.getElementById(\"132ec76b-a8bc-4ada-a2d8-4fc1f07d2a6b\")) {\n",
       "                    Plotly.newPlot(\n",
       "                        '132ec76b-a8bc-4ada-a2d8-4fc1f07d2a6b',\n",
       "                        [{\"domain\": {\"x\": [0.0, 0.45], \"y\": [0.0, 1.0]}, \"labels\": [\"Asia\", \"Europe\"], \"type\": \"pie\", \"values\": [72, 23]}, {\"domain\": {\"x\": [0.55, 1.0], \"y\": [0.0, 1.0]}, \"labels\": [\"Asia\", \"Europe\"], \"type\": \"pie\", \"values\": [28, 13]}],\n",
       "                        {\"annotations\": [{\"font\": {\"size\": 16}, \"showarrow\": false, \"text\": \"Drama TV-Series\", \"x\": 0.225, \"xanchor\": \"center\", \"xref\": \"paper\", \"y\": 1.0, \"yanchor\": \"bottom\", \"yref\": \"paper\"}, {\"font\": {\"size\": 16}, \"showarrow\": false, \"text\": \"Comedy TV-Series\", \"x\": 0.775, \"xanchor\": \"center\", \"xref\": \"paper\", \"y\": 1.0, \"yanchor\": \"bottom\", \"yref\": \"paper\"}], \"template\": {\"data\": {\"bar\": [{\"error_x\": {\"color\": \"#2a3f5f\"}, \"error_y\": {\"color\": \"#2a3f5f\"}, \"marker\": {\"line\": {\"color\": \"#E5ECF6\", \"width\": 0.5}}, \"type\": \"bar\"}], \"barpolar\": [{\"marker\": {\"line\": {\"color\": \"#E5ECF6\", \"width\": 0.5}}, \"type\": \"barpolar\"}], \"carpet\": [{\"aaxis\": {\"endlinecolor\": \"#2a3f5f\", \"gridcolor\": \"white\", \"linecolor\": \"white\", \"minorgridcolor\": \"white\", \"startlinecolor\": \"#2a3f5f\"}, \"baxis\": {\"endlinecolor\": \"#2a3f5f\", \"gridcolor\": \"white\", \"linecolor\": \"white\", \"minorgridcolor\": \"white\", \"startlinecolor\": \"#2a3f5f\"}, \"type\": \"carpet\"}], \"choropleth\": [{\"colorbar\": {\"outlinewidth\": 0, \"ticks\": \"\"}, \"type\": \"choropleth\"}], \"contour\": [{\"colorbar\": {\"outlinewidth\": 0, \"ticks\": \"\"}, \"colorscale\": [[0.0, \"#0d0887\"], [0.1111111111111111, \"#46039f\"], [0.2222222222222222, \"#7201a8\"], [0.3333333333333333, \"#9c179e\"], [0.4444444444444444, \"#bd3786\"], [0.5555555555555556, \"#d8576b\"], [0.6666666666666666, \"#ed7953\"], [0.7777777777777778, \"#fb9f3a\"], [0.8888888888888888, \"#fdca26\"], [1.0, \"#f0f921\"]], \"type\": \"contour\"}], \"contourcarpet\": [{\"colorbar\": {\"outlinewidth\": 0, \"ticks\": \"\"}, \"type\": \"contourcarpet\"}], \"heatmap\": [{\"colorbar\": {\"outlinewidth\": 0, \"ticks\": \"\"}, \"colorscale\": [[0.0, \"#0d0887\"], [0.1111111111111111, \"#46039f\"], [0.2222222222222222, \"#7201a8\"], [0.3333333333333333, \"#9c179e\"], [0.4444444444444444, \"#bd3786\"], [0.5555555555555556, \"#d8576b\"], [0.6666666666666666, \"#ed7953\"], [0.7777777777777778, \"#fb9f3a\"], [0.8888888888888888, \"#fdca26\"], [1.0, \"#f0f921\"]], \"type\": \"heatmap\"}], \"heatmapgl\": [{\"colorbar\": {\"outlinewidth\": 0, \"ticks\": \"\"}, \"colorscale\": [[0.0, \"#0d0887\"], [0.1111111111111111, \"#46039f\"], [0.2222222222222222, \"#7201a8\"], [0.3333333333333333, \"#9c179e\"], [0.4444444444444444, \"#bd3786\"], [0.5555555555555556, \"#d8576b\"], [0.6666666666666666, \"#ed7953\"], [0.7777777777777778, \"#fb9f3a\"], [0.8888888888888888, \"#fdca26\"], [1.0, \"#f0f921\"]], \"type\": \"heatmapgl\"}], \"histogram\": [{\"marker\": {\"colorbar\": {\"outlinewidth\": 0, \"ticks\": \"\"}}, \"type\": \"histogram\"}], \"histogram2d\": [{\"colorbar\": {\"outlinewidth\": 0, \"ticks\": \"\"}, \"colorscale\": [[0.0, \"#0d0887\"], [0.1111111111111111, \"#46039f\"], [0.2222222222222222, \"#7201a8\"], [0.3333333333333333, \"#9c179e\"], [0.4444444444444444, \"#bd3786\"], [0.5555555555555556, \"#d8576b\"], [0.6666666666666666, \"#ed7953\"], [0.7777777777777778, \"#fb9f3a\"], [0.8888888888888888, \"#fdca26\"], [1.0, \"#f0f921\"]], \"type\": \"histogram2d\"}], \"histogram2dcontour\": [{\"colorbar\": {\"outlinewidth\": 0, \"ticks\": \"\"}, \"colorscale\": [[0.0, \"#0d0887\"], [0.1111111111111111, \"#46039f\"], [0.2222222222222222, \"#7201a8\"], [0.3333333333333333, \"#9c179e\"], [0.4444444444444444, \"#bd3786\"], [0.5555555555555556, \"#d8576b\"], [0.6666666666666666, \"#ed7953\"], [0.7777777777777778, \"#fb9f3a\"], [0.8888888888888888, \"#fdca26\"], [1.0, \"#f0f921\"]], \"type\": \"histogram2dcontour\"}], \"mesh3d\": [{\"colorbar\": {\"outlinewidth\": 0, \"ticks\": \"\"}, \"type\": \"mesh3d\"}], \"parcoords\": [{\"line\": {\"colorbar\": {\"outlinewidth\": 0, \"ticks\": \"\"}}, \"type\": \"parcoords\"}], \"pie\": [{\"automargin\": true, \"type\": \"pie\"}], \"scatter\": [{\"marker\": {\"colorbar\": {\"outlinewidth\": 0, \"ticks\": \"\"}}, \"type\": \"scatter\"}], \"scatter3d\": [{\"line\": {\"colorbar\": {\"outlinewidth\": 0, \"ticks\": \"\"}}, \"marker\": {\"colorbar\": {\"outlinewidth\": 0, \"ticks\": \"\"}}, \"type\": \"scatter3d\"}], \"scattercarpet\": [{\"marker\": {\"colorbar\": {\"outlinewidth\": 0, \"ticks\": \"\"}}, \"type\": \"scattercarpet\"}], \"scattergeo\": [{\"marker\": {\"colorbar\": {\"outlinewidth\": 0, \"ticks\": \"\"}}, \"type\": \"scattergeo\"}], \"scattergl\": [{\"marker\": {\"colorbar\": {\"outlinewidth\": 0, \"ticks\": \"\"}}, \"type\": \"scattergl\"}], \"scattermapbox\": [{\"marker\": {\"colorbar\": {\"outlinewidth\": 0, \"ticks\": \"\"}}, \"type\": \"scattermapbox\"}], \"scatterpolar\": [{\"marker\": {\"colorbar\": {\"outlinewidth\": 0, \"ticks\": \"\"}}, \"type\": \"scatterpolar\"}], \"scatterpolargl\": [{\"marker\": {\"colorbar\": {\"outlinewidth\": 0, \"ticks\": \"\"}}, \"type\": \"scatterpolargl\"}], \"scatterternary\": [{\"marker\": {\"colorbar\": {\"outlinewidth\": 0, \"ticks\": \"\"}}, \"type\": \"scatterternary\"}], \"surface\": [{\"colorbar\": {\"outlinewidth\": 0, \"ticks\": \"\"}, \"colorscale\": [[0.0, \"#0d0887\"], [0.1111111111111111, \"#46039f\"], [0.2222222222222222, \"#7201a8\"], [0.3333333333333333, \"#9c179e\"], [0.4444444444444444, \"#bd3786\"], [0.5555555555555556, \"#d8576b\"], [0.6666666666666666, \"#ed7953\"], [0.7777777777777778, \"#fb9f3a\"], [0.8888888888888888, \"#fdca26\"], [1.0, \"#f0f921\"]], \"type\": \"surface\"}], \"table\": [{\"cells\": {\"fill\": {\"color\": \"#EBF0F8\"}, \"line\": {\"color\": \"white\"}}, \"header\": {\"fill\": {\"color\": \"#C8D4E3\"}, \"line\": {\"color\": \"white\"}}, \"type\": \"table\"}]}, \"layout\": {\"annotationdefaults\": {\"arrowcolor\": \"#2a3f5f\", \"arrowhead\": 0, \"arrowwidth\": 1}, \"coloraxis\": {\"colorbar\": {\"outlinewidth\": 0, \"ticks\": \"\"}}, \"colorscale\": {\"diverging\": [[0, \"#8e0152\"], [0.1, \"#c51b7d\"], [0.2, \"#de77ae\"], [0.3, \"#f1b6da\"], [0.4, \"#fde0ef\"], [0.5, \"#f7f7f7\"], [0.6, \"#e6f5d0\"], [0.7, \"#b8e186\"], [0.8, \"#7fbc41\"], [0.9, \"#4d9221\"], [1, \"#276419\"]], \"sequential\": [[0.0, \"#0d0887\"], [0.1111111111111111, \"#46039f\"], [0.2222222222222222, \"#7201a8\"], [0.3333333333333333, \"#9c179e\"], [0.4444444444444444, \"#bd3786\"], [0.5555555555555556, \"#d8576b\"], [0.6666666666666666, \"#ed7953\"], [0.7777777777777778, \"#fb9f3a\"], [0.8888888888888888, \"#fdca26\"], [1.0, \"#f0f921\"]], \"sequentialminus\": [[0.0, \"#0d0887\"], [0.1111111111111111, \"#46039f\"], [0.2222222222222222, \"#7201a8\"], [0.3333333333333333, \"#9c179e\"], [0.4444444444444444, \"#bd3786\"], [0.5555555555555556, \"#d8576b\"], [0.6666666666666666, \"#ed7953\"], [0.7777777777777778, \"#fb9f3a\"], [0.8888888888888888, \"#fdca26\"], [1.0, \"#f0f921\"]]}, \"colorway\": [\"#636efa\", \"#EF553B\", \"#00cc96\", \"#ab63fa\", \"#FFA15A\", \"#19d3f3\", \"#FF6692\", \"#B6E880\", \"#FF97FF\", \"#FECB52\"], \"font\": {\"color\": \"#2a3f5f\"}, \"geo\": {\"bgcolor\": \"white\", \"lakecolor\": \"white\", \"landcolor\": \"#E5ECF6\", \"showlakes\": true, \"showland\": true, \"subunitcolor\": \"white\"}, \"hoverlabel\": {\"align\": \"left\"}, \"hovermode\": \"closest\", \"mapbox\": {\"style\": \"light\"}, \"paper_bgcolor\": \"white\", \"plot_bgcolor\": \"#E5ECF6\", \"polar\": {\"angularaxis\": {\"gridcolor\": \"white\", \"linecolor\": \"white\", \"ticks\": \"\"}, \"bgcolor\": \"#E5ECF6\", \"radialaxis\": {\"gridcolor\": \"white\", \"linecolor\": \"white\", \"ticks\": \"\"}}, \"scene\": {\"xaxis\": {\"backgroundcolor\": \"#E5ECF6\", \"gridcolor\": \"white\", \"gridwidth\": 2, \"linecolor\": \"white\", \"showbackground\": true, \"ticks\": \"\", \"zerolinecolor\": \"white\"}, \"yaxis\": {\"backgroundcolor\": \"#E5ECF6\", \"gridcolor\": \"white\", \"gridwidth\": 2, \"linecolor\": \"white\", \"showbackground\": true, \"ticks\": \"\", \"zerolinecolor\": \"white\"}, \"zaxis\": {\"backgroundcolor\": \"#E5ECF6\", \"gridcolor\": \"white\", \"gridwidth\": 2, \"linecolor\": \"white\", \"showbackground\": true, \"ticks\": \"\", \"zerolinecolor\": \"white\"}}, \"shapedefaults\": {\"line\": {\"color\": \"#2a3f5f\"}}, \"ternary\": {\"aaxis\": {\"gridcolor\": \"white\", \"linecolor\": \"white\", \"ticks\": \"\"}, \"baxis\": {\"gridcolor\": \"white\", \"linecolor\": \"white\", \"ticks\": \"\"}, \"bgcolor\": \"#E5ECF6\", \"caxis\": {\"gridcolor\": \"white\", \"linecolor\": \"white\", \"ticks\": \"\"}}, \"title\": {\"x\": 0.05}, \"xaxis\": {\"automargin\": true, \"gridcolor\": \"white\", \"linecolor\": \"white\", \"ticks\": \"\", \"title\": {\"standoff\": 15}, \"zerolinecolor\": \"white\", \"zerolinewidth\": 2}, \"yaxis\": {\"automargin\": true, \"gridcolor\": \"white\", \"linecolor\": \"white\", \"ticks\": \"\", \"title\": {\"standoff\": 15}, \"zerolinecolor\": \"white\", \"zerolinewidth\": 2}}}, \"title\": {\"text\": \"The proportion of TV-Series\"}, \"width\": 900},\n",
       "                        {\"responsive\": true}\n",
       "                    ).then(function(){\n",
       "                            \n",
       "var gd = document.getElementById('132ec76b-a8bc-4ada-a2d8-4fc1f07d2a6b');\n",
       "var x = new MutationObserver(function (mutations, observer) {{\n",
       "        var display = window.getComputedStyle(gd).display;\n",
       "        if (!display || display === 'none') {{\n",
       "            console.log([gd, 'removed!']);\n",
       "            Plotly.purge(gd);\n",
       "            observer.disconnect();\n",
       "        }}\n",
       "}});\n",
       "\n",
       "// Listen for the removal of the full notebook cells\n",
       "var notebookContainer = gd.closest('#notebook-container');\n",
       "if (notebookContainer) {{\n",
       "    x.observe(notebookContainer, {childList: true});\n",
       "}}\n",
       "\n",
       "// Listen for the clearing of the current output cell\n",
       "var outputEl = gd.closest('.output');\n",
       "if (outputEl) {{\n",
       "    x.observe(outputEl, {childList: true});\n",
       "}}\n",
       "\n",
       "                        })\n",
       "                };\n",
       "                \n",
       "            </script>\n",
       "        </div>\n",
       "</body>\n",
       "</html>"
      ]
     },
     "metadata": {},
     "output_type": "display_data"
    }
   ],
   "source": [
    "#สร้าง Pie chart ที่แสดงสัดส่วนของ TV-Series ในแต่ละภูมิภาค\n",
    "PropSeries = make_subplots(rows=1, cols=2, specs=[[{\"type\": \"pie\"}, {\"type\": \"pie\"}]] ,subplot_titles=['Drama TV-Series', 'Comedy TV-Series'])\n",
    "PropSeries.add_trace(go.Pie(values=cRegionDrama,labels=sortlablesregion),1,1)\n",
    "PropSeries.add_trace(go.Pie(values=cRegionComedy,labels=sortlablesregion),1,2)\n",
    "PropSeries.update_layout(width = 900, title_text=\"The proportion of TV-Series\")\n",
    "PropSeries.show()"
   ]
  },
  {
   "cell_type": "markdown",
   "metadata": {
    "id": "20AiBm8N7A6Y"
   },
   "source": [
    "กราฟ The proportion of TV-Series แสดงสัดส่วนของ TV-Series \n",
    "ส่วนใหญ่ผลิตในภูมิภาค Asia ทั้งประเภท Drama และ Comedy"
   ]
  },
  {
   "cell_type": "markdown",
   "metadata": {
    "id": "YYc7ENrV6Ltc"
   },
   "source": [
    "##จำนวน TV-Series ที่ผลิตในประเทศที่อยู่ในภูมิภาคเอเชีย"
   ]
  },
  {
   "cell_type": "markdown",
   "metadata": {
    "id": "d0vOPanHb8tH"
   },
   "source": [
    "ข้อมูลกราฟ The proportion of TV-Series แสดงให้เห็นว่าส่วนใหญ่ผลิตในเอเชียเพื่อนำมาดูแต่ละประเทศในภูมิภาคเอเชียผลิต TV-Series จำนวนเท่าไหร่บ้าง"
   ]
  },
  {
   "cell_type": "code",
   "execution_count": null,
   "metadata": {
    "colab": {
     "base_uri": "https://localhost:8080/",
     "height": 204
    },
    "id": "4_zMtqix8kin",
    "outputId": "95e67c06-c532-4158-99f3-2aebb087809a"
   },
   "outputs": [
    {
     "data": {
      "text/html": [
       "<div>\n",
       "<style scoped>\n",
       "    .dataframe tbody tr th:only-of-type {\n",
       "        vertical-align: middle;\n",
       "    }\n",
       "\n",
       "    .dataframe tbody tr th {\n",
       "        vertical-align: top;\n",
       "    }\n",
       "\n",
       "    .dataframe thead th {\n",
       "        text-align: right;\n",
       "    }\n",
       "</style>\n",
       "<table border=\"1\" class=\"dataframe\">\n",
       "  <thead>\n",
       "    <tr style=\"text-align: right;\">\n",
       "      <th></th>\n",
       "      <th>Country</th>\n",
       "      <th>Region</th>\n",
       "      <th>Genre</th>\n",
       "      <th>IMDBrating</th>\n",
       "      <th>Title</th>\n",
       "      <th>Released</th>\n",
       "      <th>Type</th>\n",
       "    </tr>\n",
       "  </thead>\n",
       "  <tbody>\n",
       "    <tr>\n",
       "      <th>176</th>\n",
       "      <td>Thailand</td>\n",
       "      <td>Asia</td>\n",
       "      <td>Drama</td>\n",
       "      <td>7.6</td>\n",
       "      <td>Why R U?</td>\n",
       "      <td>2020</td>\n",
       "      <td>tvSeries</td>\n",
       "    </tr>\n",
       "    <tr>\n",
       "      <th>177</th>\n",
       "      <td>Thailand</td>\n",
       "      <td>Asia</td>\n",
       "      <td>Comedy</td>\n",
       "      <td>7.9</td>\n",
       "      <td>2gether</td>\n",
       "      <td>2020</td>\n",
       "      <td>tvSeries</td>\n",
       "    </tr>\n",
       "    <tr>\n",
       "      <th>178</th>\n",
       "      <td>Thailand</td>\n",
       "      <td>Asia</td>\n",
       "      <td>Drama</td>\n",
       "      <td>7.9</td>\n",
       "      <td>Turn Left Turn Right</td>\n",
       "      <td>2020</td>\n",
       "      <td>tvSeries</td>\n",
       "    </tr>\n",
       "    <tr>\n",
       "      <th>179</th>\n",
       "      <td>Thailand</td>\n",
       "      <td>Asia</td>\n",
       "      <td>Comedy</td>\n",
       "      <td>7.2</td>\n",
       "      <td>My Bubble Tea</td>\n",
       "      <td>2020</td>\n",
       "      <td>tvSeries</td>\n",
       "    </tr>\n",
       "    <tr>\n",
       "      <th>180</th>\n",
       "      <td>Thailand</td>\n",
       "      <td>Asia</td>\n",
       "      <td>Drama</td>\n",
       "      <td>7.4</td>\n",
       "      <td>Sleepless Society: Insomnia</td>\n",
       "      <td>2020</td>\n",
       "      <td>tvSeries</td>\n",
       "    </tr>\n",
       "  </tbody>\n",
       "</table>\n",
       "</div>"
      ],
      "text/plain": [
       "      Country Region   Genre  ...                        Title Released      Type\n",
       "176  Thailand   Asia   Drama  ...                     Why R U?     2020  tvSeries\n",
       "177  Thailand   Asia  Comedy  ...                      2gether     2020  tvSeries\n",
       "178  Thailand   Asia   Drama  ...         Turn Left Turn Right     2020  tvSeries\n",
       "179  Thailand   Asia  Comedy  ...                My Bubble Tea     2020  tvSeries\n",
       "180  Thailand   Asia   Drama  ...  Sleepless Society: Insomnia     2020  tvSeries\n",
       "\n",
       "[5 rows x 7 columns]"
      ]
     },
     "execution_count": 50,
     "metadata": {},
     "output_type": "execute_result"
    }
   ],
   "source": [
    "#Filter data เลือกเฉพาะข้อมูล TV-Series ในภูมิภาคเอเชียที่ออกฉายตั้งแต่ปี 2020-ปัจจุบัน \n",
    "dataAsiaTV = data.query(\"Genre == ['Drama','Comedy'] & Type == 'tvSeries'& Released == ['2020','2021'] & Region == 'Asia'\")\n",
    "finalviz.head(5)"
   ]
  },
  {
   "cell_type": "code",
   "execution_count": null,
   "metadata": {
    "colab": {
     "base_uri": "https://localhost:8080/",
     "height": 466
    },
    "id": "jk38tSszLCfv",
    "outputId": "0b36c7a8-5ee4-41f3-ea33-aeebe87dc40f"
   },
   "outputs": [
    {
     "data": {
      "image/png": "[encoded data removed]",
      "text/plain": [
       "<Figure size 504x504 with 1 Axes>"
      ]
     },
     "metadata": {},
     "output_type": "display_data"
    }
   ],
   "source": [
    "#Set Theme Graph\n",
    "sns.set_theme(style=\"darkgrid\", palette=\"pastel\")\n",
    "#กำหนดขนาดของกราฟ\n",
    "countplt, ax = plt.subplots(figsize = (7,7))\n",
    "#สร้างกราฟ Bar chart TV-Series ในประเทศที่อยู่ในภูมิภาคเอเชีย\n",
    "sns.countplot(x ='Country', data = dataAsiaTV,order = dataAsiaTV['Country'].value_counts().index,palette='crest').set_title(\"Asia TV-Series\",fontsize = 15, fontweight='bold')\n",
    "#แสดงจำนวนในกราฟแต่ละแท่ง\n",
    "for rect in ax.patches:\n",
    "    ax.text (rect.get_x() + rect.get_width() / 2,rect.get_height()+ 0.75,rect.get_height(),horizontalalignment='center', fontsize = 11)"
   ]
  },
  {
   "cell_type": "markdown",
   "metadata": {
    "id": "K5Ltmpg7A3uw"
   },
   "source": [
    "TV-Series ในภูมิภาคเอเชียส่วนใหญ่ผลิตในประเทศจีนและเกาหลีใต้"
   ]
  },
  {
   "cell_type": "markdown",
   "metadata": {
    "id": "taWBBPCF6aBA"
   },
   "source": [
    "##เปรียบเทียบคะแนน IMDB-rating ของ TV-Series ระหว่าง ประเทศเกาหลีใต้ และ ประเทศจีน "
   ]
  },
  {
   "cell_type": "markdown",
   "metadata": {
    "id": "fhsijOMkk3jG"
   },
   "source": [
    "จากข้อมูลกราฟ Asia TV-Series ส่วนใหญ่มีการผลิตในประเทศจีนกับเกาหลีใต้จึงนำข้อมูล 2 ประเทศที่มีการผลิตที่สูงว่ามีคะแนน IMDB-rating เป็นอย่างไรบ้าง"
   ]
  },
  {
   "cell_type": "code",
   "execution_count": null,
   "metadata": {
    "id": "KyEveicrf9LD"
   },
   "outputs": [],
   "source": [
    "#Filter data เลือกเฉพาะข้อมูล TV-Series ที่ผลิตในประเทศจีนและเกาหลีใต้\n",
    "RatingSeries_Asia = dataAsiaTV.query(\"Country == ['China','South Korea']\")"
   ]
  },
  {
   "cell_type": "code",
   "execution_count": null,
   "metadata": {
    "colab": {
     "base_uri": "https://localhost:8080/",
     "height": 567
    },
    "id": "kCj_w2__kmHd",
    "outputId": "0816354d-15f6-4cad-b986-4ede7503dcee"
   },
   "outputs": [
    {
     "data": {
      "text/html": [
       "<html>\n",
       "<head><meta charset=\"utf-8\" /></head>\n",
       "<body>\n",
       "    <div>\n",
       "            <script src=\"https://cdnjs.cloudflare.com/ajax/libs/mathjax/2.7.5/MathJax.js?config=TeX-AMS-MML_SVG\"></script><script type=\"text/javascript\">if (window.MathJax) {MathJax.Hub.Config({SVG: {font: \"STIX-Web\"}});}</script>\n",
       "                <script type=\"text/javascript\">window.PlotlyConfig = {MathJaxConfig: 'local'};</script>\n",
       "        <script src=\"https://cdn.plot.ly/plotly-latest.min.js\"></script>    \n",
       "            <div id=\"a14cd546-d548-4765-98da-171edbac81f8\" class=\"plotly-graph-div\" style=\"height:550px; width:1000px;\"></div>\n",
       "            <script type=\"text/javascript\">\n",
       "                \n",
       "                    window.PLOTLYENV=window.PLOTLYENV || {};\n",
       "                    \n",
       "                if (document.getElementById(\"a14cd546-d548-4765-98da-171edbac81f8\")) {\n",
       "                    Plotly.newPlot(\n",
       "                        'a14cd546-d548-4765-98da-171edbac81f8',\n",
       "                        [{\"alignmentgroup\": \"True\", \"hoverlabel\": {\"namelength\": 0}, \"hovertemplate\": \"Country=%{x}<br>IMDBrating=%{y}\", \"legendgroup\": \"\", \"marker\": {\"color\": \"#636efa\"}, \"name\": \"\", \"notched\": false, \"offsetgroup\": \"\", \"orientation\": \"v\", \"showlegend\": false, \"type\": \"box\", \"x\": [\"South Korea\", \"South Korea\", \"South Korea\", \"South Korea\", \"South Korea\", \"South Korea\", \"South Korea\", \"South Korea\", \"South Korea\", \"South Korea\", \"South Korea\", \"South Korea\", \"South Korea\", \"South Korea\", \"South Korea\", \"South Korea\", \"South Korea\", \"South Korea\", \"South Korea\", \"South Korea\", \"South Korea\", \"South Korea\", \"South Korea\", \"South Korea\", \"South Korea\", \"South Korea\", \"China\", \"China\", \"China\", \"China\", \"China\", \"China\", \"China\", \"China\", \"China\", \"China\", \"China\", \"China\", \"China\", \"China\", \"China\", \"China\", \"China\", \"China\", \"China\", \"China\", \"China\", \"China\", \"China\", \"China\", \"China\", \"China\", \"China\", \"China\", \"China\", \"China\", \"China\", \"China\"], \"x0\": \" \", \"xaxis\": \"x\", \"y\": [8.0, 7.7, 8.0, 7.2, 8.4, 7.7, 8.1, 7.2, 7.3, 8.0, 8.8, 7.9, 7.8, 7.4, 8.0, 8.2, 7.2, 7.5, 7.6, 6.9, 7.4, 8.8, 8.1, 7.4, 6.5, 7.4, 9.5, 8.2, 5.0, 8.2, 7.9, 8.4, 6.9, 8.3, 6.6, 8.0, 7.2, 7.6, 8.2, 8.0, 5.6, 7.4, 6.4, 7.5, 7.5, 8.1, 7.7, 7.5, 9.0, 8.3, 8.0, 6.8, 8.6, 7.4, 7.8, 7.9, 6.5, 7.6], \"y0\": \" \", \"yaxis\": \"y\"}],\n",
       "                        {\"boxmode\": \"group\", \"height\": 550, \"legend\": {\"tracegroupgap\": 0}, \"margin\": {\"t\": 60}, \"template\": {\"data\": {\"bar\": [{\"error_x\": {\"color\": \"#2a3f5f\"}, \"error_y\": {\"color\": \"#2a3f5f\"}, \"marker\": {\"line\": {\"color\": \"#E5ECF6\", \"width\": 0.5}}, \"type\": \"bar\"}], \"barpolar\": [{\"marker\": {\"line\": {\"color\": \"#E5ECF6\", \"width\": 0.5}}, \"type\": \"barpolar\"}], \"carpet\": [{\"aaxis\": {\"endlinecolor\": \"#2a3f5f\", \"gridcolor\": \"white\", \"linecolor\": \"white\", \"minorgridcolor\": \"white\", \"startlinecolor\": \"#2a3f5f\"}, \"baxis\": {\"endlinecolor\": \"#2a3f5f\", \"gridcolor\": \"white\", \"linecolor\": \"white\", \"minorgridcolor\": \"white\", \"startlinecolor\": \"#2a3f5f\"}, \"type\": \"carpet\"}], \"choropleth\": [{\"colorbar\": {\"outlinewidth\": 0, \"ticks\": \"\"}, \"type\": \"choropleth\"}], \"contour\": [{\"colorbar\": {\"outlinewidth\": 0, \"ticks\": \"\"}, \"colorscale\": [[0.0, \"#0d0887\"], [0.1111111111111111, \"#46039f\"], [0.2222222222222222, \"#7201a8\"], [0.3333333333333333, \"#9c179e\"], [0.4444444444444444, \"#bd3786\"], [0.5555555555555556, \"#d8576b\"], [0.6666666666666666, \"#ed7953\"], [0.7777777777777778, \"#fb9f3a\"], [0.8888888888888888, \"#fdca26\"], [1.0, \"#f0f921\"]], \"type\": \"contour\"}], \"contourcarpet\": [{\"colorbar\": {\"outlinewidth\": 0, \"ticks\": \"\"}, \"type\": \"contourcarpet\"}], \"heatmap\": [{\"colorbar\": {\"outlinewidth\": 0, \"ticks\": \"\"}, \"colorscale\": [[0.0, \"#0d0887\"], [0.1111111111111111, \"#46039f\"], [0.2222222222222222, \"#7201a8\"], [0.3333333333333333, \"#9c179e\"], [0.4444444444444444, \"#bd3786\"], [0.5555555555555556, \"#d8576b\"], [0.6666666666666666, \"#ed7953\"], [0.7777777777777778, \"#fb9f3a\"], [0.8888888888888888, \"#fdca26\"], [1.0, \"#f0f921\"]], \"type\": \"heatmap\"}], \"heatmapgl\": [{\"colorbar\": {\"outlinewidth\": 0, \"ticks\": \"\"}, \"colorscale\": [[0.0, \"#0d0887\"], [0.1111111111111111, \"#46039f\"], [0.2222222222222222, \"#7201a8\"], [0.3333333333333333, \"#9c179e\"], [0.4444444444444444, \"#bd3786\"], [0.5555555555555556, \"#d8576b\"], [0.6666666666666666, \"#ed7953\"], [0.7777777777777778, \"#fb9f3a\"], [0.8888888888888888, \"#fdca26\"], [1.0, \"#f0f921\"]], \"type\": \"heatmapgl\"}], \"histogram\": [{\"marker\": {\"colorbar\": {\"outlinewidth\": 0, \"ticks\": \"\"}}, \"type\": \"histogram\"}], \"histogram2d\": [{\"colorbar\": {\"outlinewidth\": 0, \"ticks\": \"\"}, \"colorscale\": [[0.0, \"#0d0887\"], [0.1111111111111111, \"#46039f\"], [0.2222222222222222, \"#7201a8\"], [0.3333333333333333, \"#9c179e\"], [0.4444444444444444, \"#bd3786\"], [0.5555555555555556, \"#d8576b\"], [0.6666666666666666, \"#ed7953\"], [0.7777777777777778, \"#fb9f3a\"], [0.8888888888888888, \"#fdca26\"], [1.0, \"#f0f921\"]], \"type\": \"histogram2d\"}], \"histogram2dcontour\": [{\"colorbar\": {\"outlinewidth\": 0, \"ticks\": \"\"}, \"colorscale\": [[0.0, \"#0d0887\"], [0.1111111111111111, \"#46039f\"], [0.2222222222222222, \"#7201a8\"], [0.3333333333333333, \"#9c179e\"], [0.4444444444444444, \"#bd3786\"], [0.5555555555555556, \"#d8576b\"], [0.6666666666666666, \"#ed7953\"], [0.7777777777777778, \"#fb9f3a\"], [0.8888888888888888, \"#fdca26\"], [1.0, \"#f0f921\"]], \"type\": \"histogram2dcontour\"}], \"mesh3d\": [{\"colorbar\": {\"outlinewidth\": 0, \"ticks\": \"\"}, \"type\": \"mesh3d\"}], \"parcoords\": [{\"line\": {\"colorbar\": {\"outlinewidth\": 0, \"ticks\": \"\"}}, \"type\": \"parcoords\"}], \"pie\": [{\"automargin\": true, \"type\": \"pie\"}], \"scatter\": [{\"marker\": {\"colorbar\": {\"outlinewidth\": 0, \"ticks\": \"\"}}, \"type\": \"scatter\"}], \"scatter3d\": [{\"line\": {\"colorbar\": {\"outlinewidth\": 0, \"ticks\": \"\"}}, \"marker\": {\"colorbar\": {\"outlinewidth\": 0, \"ticks\": \"\"}}, \"type\": \"scatter3d\"}], \"scattercarpet\": [{\"marker\": {\"colorbar\": {\"outlinewidth\": 0, \"ticks\": \"\"}}, \"type\": \"scattercarpet\"}], \"scattergeo\": [{\"marker\": {\"colorbar\": {\"outlinewidth\": 0, \"ticks\": \"\"}}, \"type\": \"scattergeo\"}], \"scattergl\": [{\"marker\": {\"colorbar\": {\"outlinewidth\": 0, \"ticks\": \"\"}}, \"type\": \"scattergl\"}], \"scattermapbox\": [{\"marker\": {\"colorbar\": {\"outlinewidth\": 0, \"ticks\": \"\"}}, \"type\": \"scattermapbox\"}], \"scatterpolar\": [{\"marker\": {\"colorbar\": {\"outlinewidth\": 0, \"ticks\": \"\"}}, \"type\": \"scatterpolar\"}], \"scatterpolargl\": [{\"marker\": {\"colorbar\": {\"outlinewidth\": 0, \"ticks\": \"\"}}, \"type\": \"scatterpolargl\"}], \"scatterternary\": [{\"marker\": {\"colorbar\": {\"outlinewidth\": 0, \"ticks\": \"\"}}, \"type\": \"scatterternary\"}], \"surface\": [{\"colorbar\": {\"outlinewidth\": 0, \"ticks\": \"\"}, \"colorscale\": [[0.0, \"#0d0887\"], [0.1111111111111111, \"#46039f\"], [0.2222222222222222, \"#7201a8\"], [0.3333333333333333, \"#9c179e\"], [0.4444444444444444, \"#bd3786\"], [0.5555555555555556, \"#d8576b\"], [0.6666666666666666, \"#ed7953\"], [0.7777777777777778, \"#fb9f3a\"], [0.8888888888888888, \"#fdca26\"], [1.0, \"#f0f921\"]], \"type\": \"surface\"}], \"table\": [{\"cells\": {\"fill\": {\"color\": \"#EBF0F8\"}, \"line\": {\"color\": \"white\"}}, \"header\": {\"fill\": {\"color\": \"#C8D4E3\"}, \"line\": {\"color\": \"white\"}}, \"type\": \"table\"}]}, \"layout\": {\"annotationdefaults\": {\"arrowcolor\": \"#2a3f5f\", \"arrowhead\": 0, \"arrowwidth\": 1}, \"coloraxis\": {\"colorbar\": {\"outlinewidth\": 0, \"ticks\": \"\"}}, \"colorscale\": {\"diverging\": [[0, \"#8e0152\"], [0.1, \"#c51b7d\"], [0.2, \"#de77ae\"], [0.3, \"#f1b6da\"], [0.4, \"#fde0ef\"], [0.5, \"#f7f7f7\"], [0.6, \"#e6f5d0\"], [0.7, \"#b8e186\"], [0.8, \"#7fbc41\"], [0.9, \"#4d9221\"], [1, \"#276419\"]], \"sequential\": [[0.0, \"#0d0887\"], [0.1111111111111111, \"#46039f\"], [0.2222222222222222, \"#7201a8\"], [0.3333333333333333, \"#9c179e\"], [0.4444444444444444, \"#bd3786\"], [0.5555555555555556, \"#d8576b\"], [0.6666666666666666, \"#ed7953\"], [0.7777777777777778, \"#fb9f3a\"], [0.8888888888888888, \"#fdca26\"], [1.0, \"#f0f921\"]], \"sequentialminus\": [[0.0, \"#0d0887\"], [0.1111111111111111, \"#46039f\"], [0.2222222222222222, \"#7201a8\"], [0.3333333333333333, \"#9c179e\"], [0.4444444444444444, \"#bd3786\"], [0.5555555555555556, \"#d8576b\"], [0.6666666666666666, \"#ed7953\"], [0.7777777777777778, \"#fb9f3a\"], [0.8888888888888888, \"#fdca26\"], [1.0, \"#f0f921\"]]}, \"colorway\": [\"#636efa\", \"#EF553B\", \"#00cc96\", \"#ab63fa\", \"#FFA15A\", \"#19d3f3\", \"#FF6692\", \"#B6E880\", \"#FF97FF\", \"#FECB52\"], \"font\": {\"color\": \"#2a3f5f\"}, \"geo\": {\"bgcolor\": \"white\", \"lakecolor\": \"white\", \"landcolor\": \"#E5ECF6\", \"showlakes\": true, \"showland\": true, \"subunitcolor\": \"white\"}, \"hoverlabel\": {\"align\": \"left\"}, \"hovermode\": \"closest\", \"mapbox\": {\"style\": \"light\"}, \"paper_bgcolor\": \"white\", \"plot_bgcolor\": \"#E5ECF6\", \"polar\": {\"angularaxis\": {\"gridcolor\": \"white\", \"linecolor\": \"white\", \"ticks\": \"\"}, \"bgcolor\": \"#E5ECF6\", \"radialaxis\": {\"gridcolor\": \"white\", \"linecolor\": \"white\", \"ticks\": \"\"}}, \"scene\": {\"xaxis\": {\"backgroundcolor\": \"#E5ECF6\", \"gridcolor\": \"white\", \"gridwidth\": 2, \"linecolor\": \"white\", \"showbackground\": true, \"ticks\": \"\", \"zerolinecolor\": \"white\"}, \"yaxis\": {\"backgroundcolor\": \"#E5ECF6\", \"gridcolor\": \"white\", \"gridwidth\": 2, \"linecolor\": \"white\", \"showbackground\": true, \"ticks\": \"\", \"zerolinecolor\": \"white\"}, \"zaxis\": {\"backgroundcolor\": \"#E5ECF6\", \"gridcolor\": \"white\", \"gridwidth\": 2, \"linecolor\": \"white\", \"showbackground\": true, \"ticks\": \"\", \"zerolinecolor\": \"white\"}}, \"shapedefaults\": {\"line\": {\"color\": \"#2a3f5f\"}}, \"ternary\": {\"aaxis\": {\"gridcolor\": \"white\", \"linecolor\": \"white\", \"ticks\": \"\"}, \"baxis\": {\"gridcolor\": \"white\", \"linecolor\": \"white\", \"ticks\": \"\"}, \"bgcolor\": \"#E5ECF6\", \"caxis\": {\"gridcolor\": \"white\", \"linecolor\": \"white\", \"ticks\": \"\"}}, \"title\": {\"x\": 0.05}, \"xaxis\": {\"automargin\": true, \"gridcolor\": \"white\", \"linecolor\": \"white\", \"ticks\": \"\", \"title\": {\"standoff\": 15}, \"zerolinecolor\": \"white\", \"zerolinewidth\": 2}, \"yaxis\": {\"automargin\": true, \"gridcolor\": \"white\", \"linecolor\": \"white\", \"ticks\": \"\", \"title\": {\"standoff\": 15}, \"zerolinecolor\": \"white\", \"zerolinewidth\": 2}}}, \"title\": {\"text\": \"TV-Series IMDB Rating \\u0e23\\u0e30\\u0e2b\\u0e27\\u0e48\\u0e32\\u0e07 \\u0e1b\\u0e23\\u0e30\\u0e40\\u0e17\\u0e28\\u0e40\\u0e01\\u0e32\\u0e2b\\u0e25\\u0e35\\u0e43\\u0e15\\u0e49 \\u0e41\\u0e25\\u0e30 \\u0e1b\\u0e23\\u0e30\\u0e40\\u0e17\\u0e28\\u0e08\\u0e35\\u0e19 \"}, \"width\": 1000, \"xaxis\": {\"anchor\": \"y\", \"domain\": [0.0, 1.0], \"title\": {\"text\": \"Country\"}}, \"yaxis\": {\"anchor\": \"x\", \"domain\": [0.0, 1.0], \"title\": {\"text\": \"IMDBrating\"}}},\n",
       "                        {\"responsive\": true}\n",
       "                    ).then(function(){\n",
       "                            \n",
       "var gd = document.getElementById('a14cd546-d548-4765-98da-171edbac81f8');\n",
       "var x = new MutationObserver(function (mutations, observer) {{\n",
       "        var display = window.getComputedStyle(gd).display;\n",
       "        if (!display || display === 'none') {{\n",
       "            console.log([gd, 'removed!']);\n",
       "            Plotly.purge(gd);\n",
       "            observer.disconnect();\n",
       "        }}\n",
       "}});\n",
       "\n",
       "// Listen for the removal of the full notebook cells\n",
       "var notebookContainer = gd.closest('#notebook-container');\n",
       "if (notebookContainer) {{\n",
       "    x.observe(notebookContainer, {childList: true});\n",
       "}}\n",
       "\n",
       "// Listen for the clearing of the current output cell\n",
       "var outputEl = gd.closest('.output');\n",
       "if (outputEl) {{\n",
       "    x.observe(outputEl, {childList: true});\n",
       "}}\n",
       "\n",
       "                        })\n",
       "                };\n",
       "                \n",
       "            </script>\n",
       "        </div>\n",
       "</body>\n",
       "</html>"
      ]
     },
     "metadata": {},
     "output_type": "display_data"
    }
   ],
   "source": [
    "#สร้าง Box plot\n",
    "Rating_Series = px.box(RatingSeries_Asia, x = \"Country\", y = \"IMDBrating\")\n",
    "#ตั้งชื่อ Box plot\n",
    "Rating_Series.update_layout(title_text = 'TV-Series IMDB Rating ระหว่าง ประเทศเกาหลีใต้ และ ประเทศจีน ')\n",
    "#กำหนดขนาด Box plot\n",
    "Rating_Series.update_layout(height = 550, width = 1000)\n",
    "Rating_Series.show()"
   ]
  },
  {
   "cell_type": "markdown",
   "metadata": {
    "id": "s_sQj3xpmAww"
   },
   "source": [
    "TV-Series ทั้ง 2 ประเทศเกาหลีใต้และจีนนั้นส่วนใหญ่มี IMDB Rating อยู่ในช่วงเรทติ้ง 7-10 คะแนน"
   ]
  },
  {
   "cell_type": "markdown",
   "metadata": {
    "id": "fpp9BurxrZrw"
   },
   "source": [
    "#Summary"
   ]
  },
  {
   "cell_type": "markdown",
   "metadata": {
    "id": "82CsmqMGml3O"
   },
   "source": [
    "สรุปผลจากการทำ Data Visualization ได้ดังนี่\n",
    "\n",
    "\n",
    "*   ข้อมูล OTT จะเป็นประเภท Drama มากที่สุดเป็นอันดับ 1 และ เป็นประเภท Comedy รองลงมาเป็นอันดับ 2\n",
    "*   OTT ประเภท Drama และ Comedy ส่วนใหญ่ผลิตออกมาในรูปแบบของ ภาพยนต์และ TV-Series\n",
    "*   แนวโน้ม IMDB-rating ของ TV-Series ในปัจจุบันมีการเพิ่มขึ้นของ rating ตั้งแต่ปี 2020-2021 ทั้งประเภท Drama และ Comedy แต่ในส่วนของภาพยนต์ประเภท Drama นั้นมีการลดลงของ rating อย่างต่อเนื่อง\n",
    "*   TV-Series ส่วนใหญ่มีการผลิตในภูมิภาค Asia ทั้งประเภท Drama และ Comedy\n",
    "*   TV-Series ในภูมิภาคเอเชียส่วนใหญ่ผลิตในประเทศจีนและเกาหลีใต้\n",
    "*   TV-Series ทั้ง 2 ประเทศเกาหลีใต้และจีนนั้นส่วนใหญ่มี IMDB Rating อยู่ในช่วงเรทติ้ง 7-10 คะแนนถึงแม้ว่าจะมีการผลิตที่สูงแต่ยังมี IMDB Rating ที่สูงควบคู่ไปด้วย\n",
    "\n",
    "\n",
    "จากข้อมูลที่ได้ทำ Data Visualization แสดงให้เห็นว่า TV-Series จากทั้งประเทศเกาหลีใต้และจีนนั้นมีคะแนน IMDB Rating ที่สูงถึงจะมีการผลิตที่สูงมากนั้นแสดงให้เห็นถึงการผลิตสื่อที่มีประสิทธิภาพของทั้ง 2 ประเทศซึ่งข้อมูลเหล่านี้สามารถนำไปใช้เพื่อช่วยในการตัดสินใจฝ่ายการตลาดของบริษัทที่ให้บริการ platfrom OTT ในการนำ TV-Series จากทั้ง 2 ประเทศนี้นำไปลงใน platfrom ของตัวเองซึ่งจะสามารถช่วยเพิ่มยอดคนดูและเพิ่มเรทติ้งของ platfrom ได้\n",
    "\n",
    "\n",
    "\n",
    "\n",
    "\n"
   ]
  }
 ],
 "metadata": {
  "colab": {
   "collapsed_sections": [],
   "name": "1_62070274_ศุภวิชญ์_Assign1.ipynb",
   "provenance": []
  },
  "kernelspec": {
   "display_name": "Python 3",
   "language": "python",
   "name": "python3"
  },
  "language_info": {
   "codemirror_mode": {
    "name": "ipython",
    "version": 3
   },
   "file_extension": ".py",
   "mimetype": "text/x-python",
   "name": "python",
   "nbconvert_exporter": "python",
   "pygments_lexer": "ipython3",
   "version": "3.7.4"
  }
 },
 "nbformat": 4,
 "nbformat_minor": 4
}
