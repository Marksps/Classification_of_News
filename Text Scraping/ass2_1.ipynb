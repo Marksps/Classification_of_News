{
 "cells": [
  {
   "cell_type": "code",
   "execution_count": 1,
   "metadata": {
    "id": "Y6lkrhv3pJNO"
   },
   "outputs": [],
   "source": [
    "import pandas as pd\n",
    "import numpy as np\n",
    "import requests\n",
    "from bs4 import BeautifulSoup"
   ]
  },
  {
   "cell_type": "markdown",
   "metadata": {
    "id": "qTNIFnxSurP_"
   },
   "source": [
    "# Data Collection"
   ]
  },
  {
   "cell_type": "code",
   "execution_count": 2,
   "metadata": {
    "id": "dgNMpe4duKYG"
   },
   "outputs": [],
   "source": [
    "url = requests.get('http://www.it.kmitl.ac.th/~teerapong/news_archive/index.html')#root URL\n",
    "url_text = BeautifulSoup(url.content,'html')"
   ]
  },
  {
   "cell_type": "code",
   "execution_count": 3,
   "metadata": {
    "id": "OkFPNGpLv3qH"
   },
   "outputs": [],
   "source": [
    "list_path, list_month = [], [] #สร้าง list เปล่าเพื่อนำมาเก็บข้อมูลของ URL \n",
    "\n",
    "for i in url_text.find_all('a',href = True):\n",
    "  if i['href'] != '#': \n",
    "    list_path.append('http://www.it.kmitl.ac.th/~teerapong/news_archive/' + i['href'])\n",
    "    list_month.append(i.text)"
   ]
  },
  {
   "cell_type": "code",
   "execution_count": 4,
   "metadata": {
    "id": "0Lsa-bAAk3wv"
   },
   "outputs": [],
   "source": [
    "list_category, list_month_news, list_urlnews, list_path_content = [], [], [], []\n",
    "\n",
    "for i in list_path:\n",
    "  url_month = requests.get(i)\n",
    "  url_mtext = BeautifulSoup(url_month.content,'html')\n",
    "  url_mtextbody = url_mtext.tbody.find_all('a',href = True) #เอาเฉพาะใน tags <tbody>\n",
    "  for j in url_mtext.find_all('td', {'class':'category'}):\n",
    "    if j.text.strip() != 'N/A':\n",
    "        list_category.append(j.text.strip())\n",
    "        list_month_news.append(list_month[list_path.index(i)])\n",
    "  for k in url_mtextbody:\n",
    "    list_urlnews.append('http://www.it.kmitl.ac.th/~teerapong/news_archive/' + k['href'])\n",
    "    list_path_content.append(k['href'].split('.')[0])   "
   ]
  },
  {
   "cell_type": "code",
   "execution_count": 5,
   "metadata": {
    "id": "9KHrNVixKR1m"
   },
   "outputs": [],
   "source": [
    "list_content ,list_header = [],[]\n",
    "\n",
    "for i in list_urlnews:\n",
    "    url_news = requests.get(i)\n",
    "    content_txt = BeautifulSoup(url_news.content,'html')\n",
    "    content_txt.find('p',{'class':'notice'}).decompose()\n",
    "    list_header.append(content_txt.h2.text)\n",
    "    test_list = []\n",
    "    for j in content_txt.find_all('p'):\n",
    "     test_list.append(j.text)\n",
    "    list_content.append(''.join(test_list))"
   ]
  },
  {
   "cell_type": "markdown",
   "metadata": {
    "id": "guJGA_3rvEsi"
   },
   "source": [
    "# Test"
   ]
  },
  {
   "cell_type": "code",
   "execution_count": 6,
   "metadata": {
    "id": "KQT7ho-JAs46"
   },
   "outputs": [],
   "source": [
    "#content_txt.select(\"h2\")[0].text"
   ]
  },
  {
   "cell_type": "code",
   "execution_count": 7,
   "metadata": {
    "id": "qjTWVhkLl__x"
   },
   "outputs": [],
   "source": [
    "df = pd.DataFrame({ 'Header':list_header,'Content':list_content, 'Category':list_category, 'Month':list_month_news, 'Path':list_path_content})"
   ]
  },
  {
   "cell_type": "code",
   "execution_count": 28,
   "metadata": {},
   "outputs": [],
   "source": [
    "df2 = pd.DataFrame({ 'Header':list_header,'Content':list_content,'Category':list_category})"
   ]
  },
  {
   "cell_type": "code",
   "execution_count": 50,
   "metadata": {
    "id": "R5vQfnYzmMG8"
   },
   "outputs": [],
   "source": [
    "df2 = df2.drop_duplicates(subset=['Header'])"
   ]
  },
  {
   "cell_type": "code",
   "execution_count": 51,
   "metadata": {},
   "outputs": [],
   "source": [
    "df2 = df2.drop_duplicates(subset=['Content'])"
   ]
  },
  {
   "cell_type": "code",
   "execution_count": 52,
   "metadata": {
    "collapsed": true,
    "jupyter": {
     "outputs_hidden": true
    }
   },
   "outputs": [
    {
     "data": {
      "text/plain": [
       "Davenport dismantles young rival     1\n",
       "Kewell waits as injury drags on      1\n",
       "Time to get tough on friendlies?     1\n",
       "Mirza shocks Kuznetsova              1\n",
       "Computer grid to help the world      1\n",
       "                                    ..\n",
       "Solutions to net security fears      1\n",
       "Sales 'fail to boost High Street'    1\n",
       "Car giant hit by Mercedes slump      1\n",
       "Teenager Tait picked for England     1\n",
       "Britons fed up with net service      1\n",
       "Name: Header, Length: 1339, dtype: int64"
      ]
     },
     "execution_count": 52,
     "metadata": {},
     "output_type": "execute_result"
    }
   ],
   "source": [
    "df2['Header'].value_counts()"
   ]
  },
  {
   "cell_type": "code",
   "execution_count": 53,
   "metadata": {},
   "outputs": [],
   "source": [
    "df2 = df2.reset_index(drop=True)"
   ]
  },
  {
   "cell_type": "code",
   "execution_count": 55,
   "metadata": {
    "collapsed": true,
    "jupyter": {
     "outputs_hidden": true
    }
   },
   "outputs": [
    {
     "data": {
      "text/html": [
       "<div>\n",
       "<style scoped>\n",
       "    .dataframe tbody tr th:only-of-type {\n",
       "        vertical-align: middle;\n",
       "    }\n",
       "\n",
       "    .dataframe tbody tr th {\n",
       "        vertical-align: top;\n",
       "    }\n",
       "\n",
       "    .dataframe thead th {\n",
       "        text-align: right;\n",
       "    }\n",
       "</style>\n",
       "<table border=\"1\" class=\"dataframe\">\n",
       "  <thead>\n",
       "    <tr style=\"text-align: right;\">\n",
       "      <th></th>\n",
       "      <th>Header</th>\n",
       "      <th>Content</th>\n",
       "      <th>Category</th>\n",
       "    </tr>\n",
       "  </thead>\n",
       "  <tbody>\n",
       "    <tr>\n",
       "      <th>0</th>\n",
       "      <td>21st-Century Sports: How Digital Technology Is...</td>\n",
       "      <td>The sporting industry has come a long way sinc...</td>\n",
       "      <td>technology</td>\n",
       "    </tr>\n",
       "    <tr>\n",
       "      <th>1</th>\n",
       "      <td>Asian quake hits European shares</td>\n",
       "      <td>Asian quake hits European sharesShares in Euro...</td>\n",
       "      <td>business</td>\n",
       "    </tr>\n",
       "    <tr>\n",
       "      <th>2</th>\n",
       "      <td>BT offers free net phone calls</td>\n",
       "      <td>BT is offering customers free internet telepho...</td>\n",
       "      <td>technology</td>\n",
       "    </tr>\n",
       "    <tr>\n",
       "      <th>3</th>\n",
       "      <td>Barclays shares up on merger talk</td>\n",
       "      <td>Barclays shares up on merger talkShares in UK ...</td>\n",
       "      <td>business</td>\n",
       "    </tr>\n",
       "    <tr>\n",
       "      <th>4</th>\n",
       "      <td>Barkley fit for match in Ireland</td>\n",
       "      <td>England centre Olly Barkley has been passed fi...</td>\n",
       "      <td>sport</td>\n",
       "    </tr>\n",
       "    <tr>\n",
       "      <th>...</th>\n",
       "      <td>...</td>\n",
       "      <td>...</td>\n",
       "      <td>...</td>\n",
       "    </tr>\n",
       "    <tr>\n",
       "      <th>1334</th>\n",
       "      <td>Woodward eyes Brennan for Lions</td>\n",
       "      <td>Woodward eyes Brennan for LionsToulouse's form...</td>\n",
       "      <td>sport</td>\n",
       "    </tr>\n",
       "    <tr>\n",
       "      <th>1335</th>\n",
       "      <td>WorldCom trial starts in New York</td>\n",
       "      <td>The trial of Bernie Ebbers, former chief execu...</td>\n",
       "      <td>business</td>\n",
       "    </tr>\n",
       "    <tr>\n",
       "      <th>1336</th>\n",
       "      <td>Yukos accused of lying to court</td>\n",
       "      <td>Yukos accused of lying to courtRussian oil fir...</td>\n",
       "      <td>business</td>\n",
       "    </tr>\n",
       "    <tr>\n",
       "      <th>1337</th>\n",
       "      <td>Yukos drops banks from court bid</td>\n",
       "      <td>Russian oil company Yukos has dropped the thre...</td>\n",
       "      <td>business</td>\n",
       "    </tr>\n",
       "    <tr>\n",
       "      <th>1338</th>\n",
       "      <td>Zambia confident and cautious</td>\n",
       "      <td>Zambia's technical director, Kalusha Bwalya is...</td>\n",
       "      <td>sport</td>\n",
       "    </tr>\n",
       "  </tbody>\n",
       "</table>\n",
       "<p>1339 rows × 3 columns</p>\n",
       "</div>"
      ],
      "text/plain": [
       "                                                 Header  \\\n",
       "0     21st-Century Sports: How Digital Technology Is...   \n",
       "1                      Asian quake hits European shares   \n",
       "2                        BT offers free net phone calls   \n",
       "3                     Barclays shares up on merger talk   \n",
       "4                      Barkley fit for match in Ireland   \n",
       "...                                                 ...   \n",
       "1334                    Woodward eyes Brennan for Lions   \n",
       "1335                  WorldCom trial starts in New York   \n",
       "1336                    Yukos accused of lying to court   \n",
       "1337                   Yukos drops banks from court bid   \n",
       "1338                      Zambia confident and cautious   \n",
       "\n",
       "                                                Content    Category  \n",
       "0     The sporting industry has come a long way sinc...  technology  \n",
       "1     Asian quake hits European sharesShares in Euro...    business  \n",
       "2     BT is offering customers free internet telepho...  technology  \n",
       "3     Barclays shares up on merger talkShares in UK ...    business  \n",
       "4     England centre Olly Barkley has been passed fi...       sport  \n",
       "...                                                 ...         ...  \n",
       "1334  Woodward eyes Brennan for LionsToulouse's form...       sport  \n",
       "1335  The trial of Bernie Ebbers, former chief execu...    business  \n",
       "1336  Yukos accused of lying to courtRussian oil fir...    business  \n",
       "1337  Russian oil company Yukos has dropped the thre...    business  \n",
       "1338  Zambia's technical director, Kalusha Bwalya is...       sport  \n",
       "\n",
       "[1339 rows x 3 columns]"
      ]
     },
     "execution_count": 55,
     "metadata": {},
     "output_type": "execute_result"
    }
   ],
   "source": [
    "df2"
   ]
  },
  {
   "cell_type": "code",
   "execution_count": 64,
   "metadata": {},
   "outputs": [
    {
     "data": {
      "text/plain": [
       "0"
      ]
     },
     "execution_count": 64,
     "metadata": {},
     "output_type": "execute_result"
    }
   ],
   "source": [
    "df2.duplicated().sum()"
   ]
  },
  {
   "cell_type": "code",
   "execution_count": 66,
   "metadata": {},
   "outputs": [],
   "source": [
    "np.savetxt(r'C:\\Users\\MARK\\Desktop\\project\\category.txt', df2['Category'].values, fmt=\"%s\",encoding='utf-8')"
   ]
  },
  {
   "cell_type": "code",
   "execution_count": 67,
   "metadata": {},
   "outputs": [],
   "source": [
    "np.savetxt(r'C:\\Users\\MARK\\Desktop\\project\\textbody.txt', df2['Content'].values, fmt=\"%s\",encoding='utf-8')"
   ]
  },
  {
   "cell_type": "code",
   "execution_count": 68,
   "metadata": {},
   "outputs": [],
   "source": [
    "np.savetxt(r'C:\\Users\\MARK\\Desktop\\project\\headerbody.txt', df2[['Header', 'Content']].values, fmt=\"%s\",encoding='utf-8')"
   ]
  },
  {
   "cell_type": "code",
   "execution_count": null,
   "metadata": {},
   "outputs": [],
   "source": []
  }
 ],
 "metadata": {
  "colab": {
   "collapsed_sections": [],
   "name": "ass2_1.ipynb",
   "provenance": []
  },
  "kernelspec": {
   "display_name": "Python 3",
   "language": "python",
   "name": "python3"
  },
  "language_info": {
   "codemirror_mode": {
    "name": "ipython",
    "version": 3
   },
   "file_extension": ".py",
   "mimetype": "text/x-python",
   "name": "python",
   "nbconvert_exporter": "python",
   "pygments_lexer": "ipython3",
   "version": "3.7.4"
  }
 },
 "nbformat": 4,
 "nbformat_minor": 4
}
